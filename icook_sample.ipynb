{
  "cells": [
    {
      "cell_type": "markdown",
      "metadata": {
        "id": "view-in-github",
        "colab_type": "text"
      },
      "source": [
        "<a href=\"https://colab.research.google.com/github/yttinalee/data-course-sample/blob/main/icook_sample.ipynb\" target=\"_parent\"><img src=\"https://colab.research.google.com/assets/colab-badge.svg\" alt=\"Open In Colab\"/></a>"
      ]
    },
    {
      "cell_type": "code",
      "execution_count": null,
      "metadata": {
        "id": "Dt3chha1eq2A"
      },
      "outputs": [],
      "source": [
        "import pandas as pd"
      ]
    },
    {
      "cell_type": "markdown",
      "metadata": {
        "id": "3BaH0NDcVZNo"
      },
      "source": [
        "## Load data"
      ]
    },
    {
      "cell_type": "code",
      "execution_count": null,
      "metadata": {
        "id": "vhuD8hrvbxTv"
      },
      "outputs": [],
      "source": [
        "recipes_df = pd.read_json('./data/recipes.jsonl.gz', lines=True, compression='gzip')\n",
        "ingredients_df = pd.read_json('./data/ingredients.jsonl.gz', lines=True, compression='gzip')\n",
        "favorites_df = pd.read_json('./data/favorites.json.gz', compression='gzip')\n",
        "test_favorites_df = pd.read_json('./data/test_favorites.json.gz', compression='gzip')\n",
        "test_user_ids = pd.read_csv('./data/test_user_ids.txt.gz', compression='gzip', names=['user_id'])"
      ]
    },
    {
      "cell_type": "code",
      "execution_count": null,
      "metadata": {
        "id": "GitecBPTj9Hc",
        "outputId": "b05a2547-2d64-4e70-fb0f-83806566e1b7"
      },
      "outputs": [
        {
          "data": {
            "text/html": "<div>\n<style scoped>\n    .dataframe tbody tr th:only-of-type {\n        vertical-align: middle;\n    }\n\n    .dataframe tbody tr th {\n        vertical-align: top;\n    }\n\n    .dataframe thead th {\n        text-align: right;\n    }\n</style>\n<table border=\"1\" class=\"dataframe\">\n  <thead>\n    <tr style=\"text-align: right;\">\n      <th></th>\n      <th>user_id</th>\n      <th>recipe_id</th>\n    </tr>\n  </thead>\n  <tbody>\n    <tr>\n      <th>0</th>\n      <td>322</td>\n      <td>352083</td>\n    </tr>\n    <tr>\n      <th>1</th>\n      <td>322</td>\n      <td>340737</td>\n    </tr>\n    <tr>\n      <th>2</th>\n      <td>349</td>\n      <td>331236</td>\n    </tr>\n    <tr>\n      <th>3</th>\n      <td>349</td>\n      <td>351597</td>\n    </tr>\n    <tr>\n      <th>4</th>\n      <td>349</td>\n      <td>320027</td>\n    </tr>\n  </tbody>\n</table>\n</div>",
            "text/plain": "   user_id  recipe_id\n0      322     352083\n1      322     340737\n2      349     331236\n3      349     351597\n4      349     320027"
          },
          "execution_count": 4,
          "metadata": {},
          "output_type": "execute_result"
        }
      ],
      "source": [
        "test_favorites_df.head()"
      ]
    },
    {
      "cell_type": "code",
      "execution_count": null,
      "metadata": {
        "id": "odjZtprMj9Hd",
        "outputId": "53da2a90-674d-4354-dfbe-ca508c4c5f3e"
      },
      "outputs": [
        {
          "data": {
            "text/html": "<div>\n<style scoped>\n    .dataframe tbody tr th:only-of-type {\n        vertical-align: middle;\n    }\n\n    .dataframe tbody tr th {\n        vertical-align: top;\n    }\n\n    .dataframe thead th {\n        text-align: right;\n    }\n</style>\n<table border=\"1\" class=\"dataframe\">\n  <thead>\n    <tr style=\"text-align: right;\">\n      <th></th>\n      <th>user_id</th>\n    </tr>\n  </thead>\n  <tbody>\n    <tr>\n      <th>0</th>\n      <td>100004</td>\n    </tr>\n    <tr>\n      <th>1</th>\n      <td>1000120</td>\n    </tr>\n    <tr>\n      <th>2</th>\n      <td>1000205</td>\n    </tr>\n    <tr>\n      <th>3</th>\n      <td>1000228</td>\n    </tr>\n    <tr>\n      <th>4</th>\n      <td>1000554</td>\n    </tr>\n  </tbody>\n</table>\n</div>",
            "text/plain": "   user_id\n0   100004\n1  1000120\n2  1000205\n3  1000228\n4  1000554"
          },
          "execution_count": 5,
          "metadata": {},
          "output_type": "execute_result"
        }
      ],
      "source": [
        "test_user_ids.head()"
      ]
    },
    {
      "cell_type": "code",
      "execution_count": null,
      "metadata": {
        "id": "e98oLu1ij9Hd",
        "outputId": "0591911e-2c17-45ac-9224-47ba34f1bed3"
      },
      "outputs": [
        {
          "data": {
            "text/html": "<div>\n<style scoped>\n    .dataframe tbody tr th:only-of-type {\n        vertical-align: middle;\n    }\n\n    .dataframe tbody tr th {\n        vertical-align: top;\n    }\n\n    .dataframe thead th {\n        text-align: right;\n    }\n</style>\n<table border=\"1\" class=\"dataframe\">\n  <thead>\n    <tr style=\"text-align: right;\">\n      <th></th>\n      <th>id</th>\n      <th>name</th>\n      <th>description</th>\n      <th>user_id</th>\n      <th>servings</th>\n      <th>time</th>\n      <th>favorites_count</th>\n      <th>dishes_count</th>\n      <th>text_steps_count</th>\n      <th>photo_steps_count</th>\n      <th>published_at</th>\n    </tr>\n  </thead>\n  <tbody>\n    <tr>\n      <th>0</th>\n      <td>319968</td>\n      <td>鮮奶燉蛋</td>\n      <td>None</td>\n      <td>2174869</td>\n      <td>2.0</td>\n      <td>15.0</td>\n      <td>116</td>\n      <td>0</td>\n      <td>0</td>\n      <td>4</td>\n      <td>2020-01-01 03:08:24</td>\n    </tr>\n    <tr>\n      <th>1</th>\n      <td>319797</td>\n      <td>初次醃蘿蔔【鬼怪】</td>\n      <td>前陣子電視重播時才迷上「鬼怪」，雖然穿差著看，但老闆娘的「醃蘿蔔」單配酒就很對味的感覺；沒想...</td>\n      <td>61374</td>\n      <td>3.0</td>\n      <td>5.0</td>\n      <td>312</td>\n      <td>3</td>\n      <td>0</td>\n      <td>6</td>\n      <td>2020-01-01 03:14:30</td>\n    </tr>\n    <tr>\n      <th>2</th>\n      <td>311082</td>\n      <td>零基礎免揉-哈拉Challah辮子麵包\\n</td>\n      <td>不需要理論基礎\\n也不需要桌上型攪拌機\\n的五分鐘免揉法\\n在家就能輕鬆烤出香噴噴的麵包\\n...</td>\n      <td>1639091</td>\n      <td>0.0</td>\n      <td>NaN</td>\n      <td>23</td>\n      <td>0</td>\n      <td>0</td>\n      <td>9</td>\n      <td>2020-01-01 03:27:03</td>\n    </tr>\n    <tr>\n      <th>3</th>\n      <td>286167</td>\n      <td>洋蔥豬扒</td>\n      <td>簡單的兩樣食材，没有花巧的煮法，美味可口，吃得滿足。</td>\n      <td>434397</td>\n      <td>4.0</td>\n      <td>20.0</td>\n      <td>31</td>\n      <td>0</td>\n      <td>0</td>\n      <td>5</td>\n      <td>2020-01-01 04:20:26</td>\n    </tr>\n    <tr>\n      <th>4</th>\n      <td>317195</td>\n      <td>蒜香肉絲小松菜</td>\n      <td>None</td>\n      <td>2147254</td>\n      <td>0.0</td>\n      <td>NaN</td>\n      <td>14</td>\n      <td>0</td>\n      <td>4</td>\n      <td>0</td>\n      <td>2020-01-01 04:21:12</td>\n    </tr>\n  </tbody>\n</table>\n</div>",
            "text/plain": "       id                   name  \\\n0  319968                   鮮奶燉蛋   \n1  319797              初次醃蘿蔔【鬼怪】   \n2  311082  零基礎免揉-哈拉Challah辮子麵包\\n   \n3  286167                   洋蔥豬扒   \n4  317195                蒜香肉絲小松菜   \n\n                                         description  user_id  servings  time  \\\n0                                               None  2174869       2.0  15.0   \n1  前陣子電視重播時才迷上「鬼怪」，雖然穿差著看，但老闆娘的「醃蘿蔔」單配酒就很對味的感覺；沒想...    61374       3.0   5.0   \n2  不需要理論基礎\\n也不需要桌上型攪拌機\\n的五分鐘免揉法\\n在家就能輕鬆烤出香噴噴的麵包\\n...  1639091       0.0   NaN   \n3                         簡單的兩樣食材，没有花巧的煮法，美味可口，吃得滿足。   434397       4.0  20.0   \n4                                               None  2147254       0.0   NaN   \n\n   favorites_count  dishes_count  text_steps_count  photo_steps_count  \\\n0              116             0                 0                  4   \n1              312             3                 0                  6   \n2               23             0                 0                  9   \n3               31             0                 0                  5   \n4               14             0                 4                  0   \n\n         published_at  \n0 2020-01-01 03:08:24  \n1 2020-01-01 03:14:30  \n2 2020-01-01 03:27:03  \n3 2020-01-01 04:20:26  \n4 2020-01-01 04:21:12  "
          },
          "execution_count": 6,
          "metadata": {},
          "output_type": "execute_result"
        }
      ],
      "source": [
        "recipes_df.head()"
      ]
    },
    {
      "cell_type": "code",
      "execution_count": null,
      "metadata": {
        "id": "sYENAjF3j9He",
        "outputId": "1ce11f84-7050-4f9e-feec-329f0f7dfba2"
      },
      "outputs": [
        {
          "data": {
            "text/plain": "(27358, 27358)"
          },
          "execution_count": 87,
          "metadata": {},
          "output_type": "execute_result"
        }
      ],
      "source": [
        "len(recipes_df['recipe_id'].unique()), len(recipes_df)"
      ]
    },
    {
      "cell_type": "code",
      "execution_count": null,
      "metadata": {
        "id": "BKd23XWVj9He",
        "outputId": "89694d8f-42d4-4b5e-e8ce-432e66712f60"
      },
      "outputs": [
        {
          "data": {
            "text/plain": "22983       0\n23652       0\n22558       0\n22559       0\n23651       0\n         ... \n22243    2372\n20004    2452\n2705     2696\n25785    3052\n17059    3412\nName: favorites_count, Length: 27358, dtype: int64"
          },
          "execution_count": 83,
          "metadata": {},
          "output_type": "execute_result"
        }
      ],
      "source": [
        "recipes_df['favorites_count'].sort_values()"
      ]
    },
    {
      "cell_type": "code",
      "execution_count": null,
      "metadata": {
        "id": "6Mxios80j9Hf",
        "outputId": "bc6f9576-0bab-4ec0-fd83-0c03a1e43df8"
      },
      "outputs": [
        {
          "data": {
            "text/html": "<div>\n<style scoped>\n    .dataframe tbody tr th:only-of-type {\n        vertical-align: middle;\n    }\n\n    .dataframe tbody tr th {\n        vertical-align: top;\n    }\n\n    .dataframe thead th {\n        text-align: right;\n    }\n</style>\n<table border=\"1\" class=\"dataframe\">\n  <thead>\n    <tr style=\"text-align: right;\">\n      <th></th>\n      <th>recipe_id</th>\n      <th>quantity</th>\n      <th>group_name</th>\n      <th>name</th>\n    </tr>\n  </thead>\n  <tbody>\n    <tr>\n      <th>0</th>\n      <td>50310</td>\n      <td>半顆</td>\n      <td>None</td>\n      <td>蒲瓜</td>\n    </tr>\n    <tr>\n      <th>1</th>\n      <td>50310</td>\n      <td>排骨 200克</td>\n      <td>None</td>\n      <td>排骨</td>\n    </tr>\n    <tr>\n      <th>2</th>\n      <td>50310</td>\n      <td>1.5克</td>\n      <td>None</td>\n      <td>鹽</td>\n    </tr>\n    <tr>\n      <th>3</th>\n      <td>50310</td>\n      <td>1200cc</td>\n      <td>None</td>\n      <td>水</td>\n    </tr>\n    <tr>\n      <th>4</th>\n      <td>70377</td>\n      <td>適量</td>\n      <td>None</td>\n      <td>鮮奶油</td>\n    </tr>\n  </tbody>\n</table>\n</div>",
            "text/plain": "   recipe_id quantity group_name name\n0      50310       半顆       None   蒲瓜\n1      50310  排骨 200克       None   排骨\n2      50310     1.5克       None    鹽\n3      50310   1200cc       None    水\n4      70377       適量       None  鮮奶油"
          },
          "execution_count": 7,
          "metadata": {},
          "output_type": "execute_result"
        }
      ],
      "source": [
        "ingredients_df.head()"
      ]
    },
    {
      "cell_type": "code",
      "execution_count": null,
      "metadata": {
        "id": "2u8fNsehj9Hf",
        "outputId": "2211ec07-6292-4f98-fe3b-1ef151e6aa79"
      },
      "outputs": [
        {
          "data": {
            "text/plain": "4684"
          },
          "execution_count": 76,
          "metadata": {},
          "output_type": "execute_result"
        }
      ],
      "source": [
        "len(ingredients_df['group_name'].unique())"
      ]
    },
    {
      "cell_type": "code",
      "execution_count": null,
      "metadata": {
        "id": "-FlI1xpkj9Hg",
        "outputId": "fbcbd908-bfd6-4b7f-a025-e7976378ddec"
      },
      "outputs": [
        {
          "data": {
            "text/html": "<div>\n<style scoped>\n    .dataframe tbody tr th:only-of-type {\n        vertical-align: middle;\n    }\n\n    .dataframe tbody tr th {\n        vertical-align: top;\n    }\n\n    .dataframe thead th {\n        text-align: right;\n    }\n</style>\n<table border=\"1\" class=\"dataframe\">\n  <thead>\n    <tr style=\"text-align: right;\">\n      <th></th>\n      <th>recipe_id</th>\n      <th>quantity</th>\n      <th>name</th>\n    </tr>\n    <tr>\n      <th>group_name</th>\n      <th></th>\n      <th></th>\n      <th></th>\n    </tr>\n  </thead>\n  <tbody>\n    <tr>\n      <th>紅豆泥</th>\n      <td>1</td>\n      <td>1</td>\n      <td>1</td>\n    </tr>\n    <tr>\n      <th>青花菜泥</th>\n      <td>1</td>\n      <td>1</td>\n      <td>1</td>\n    </tr>\n    <tr>\n      <th>滾水起蒸</th>\n      <td>1</td>\n      <td>1</td>\n      <td>1</td>\n    </tr>\n    <tr>\n      <th>制作焦糖</th>\n      <td>1</td>\n      <td>1</td>\n      <td>1</td>\n    </tr>\n    <tr>\n      <th>分組C</th>\n      <td>1</td>\n      <td>1</td>\n      <td>1</td>\n    </tr>\n    <tr>\n      <th>...</th>\n      <td>...</td>\n      <td>...</td>\n      <td>...</td>\n    </tr>\n    <tr>\n      <th>分組1</th>\n      <td>1409</td>\n      <td>1409</td>\n      <td>1409</td>\n    </tr>\n    <tr>\n      <th>醬汁</th>\n      <td>2333</td>\n      <td>2333</td>\n      <td>2333</td>\n    </tr>\n    <tr>\n      <th>調味</th>\n      <td>2496</td>\n      <td>2496</td>\n      <td>2496</td>\n    </tr>\n    <tr>\n      <th>醃料</th>\n      <td>3219</td>\n      <td>3219</td>\n      <td>3219</td>\n    </tr>\n    <tr>\n      <th>調味料</th>\n      <td>11674</td>\n      <td>11674</td>\n      <td>11674</td>\n    </tr>\n  </tbody>\n</table>\n<p>4683 rows × 3 columns</p>\n</div>",
            "text/plain": "            recipe_id  quantity   name\ngroup_name                            \n紅豆泥                 1         1      1\n青花菜泥                1         1      1\n滾水起蒸                1         1      1\n制作焦糖                1         1      1\n分組C                 1         1      1\n...               ...       ...    ...\n分組1              1409      1409   1409\n醬汁               2333      2333   2333\n調味               2496      2496   2496\n醃料               3219      3219   3219\n調味料             11674     11674  11674\n\n[4683 rows x 3 columns]"
          },
          "execution_count": 82,
          "metadata": {},
          "output_type": "execute_result"
        }
      ],
      "source": [
        "ingredients_df.groupby(by=['group_name']).count().sort_values('recipe_id')"
      ]
    },
    {
      "cell_type": "code",
      "execution_count": null,
      "metadata": {
        "id": "I8OvHG9Ij9Hg"
      },
      "outputs": [],
      "source": [
        "recipes_df = recipes_df.rename(columns={'id':'recipe_id'})"
      ]
    },
    {
      "cell_type": "code",
      "execution_count": null,
      "metadata": {
        "id": "36kcRjf5j9Hg",
        "outputId": "f1b143f6-2cb4-453d-f942-12f910fa1fcf"
      },
      "outputs": [
        {
          "data": {
            "text/html": "<div>\n<style scoped>\n    .dataframe tbody tr th:only-of-type {\n        vertical-align: middle;\n    }\n\n    .dataframe tbody tr th {\n        vertical-align: top;\n    }\n\n    .dataframe thead th {\n        text-align: right;\n    }\n</style>\n<table border=\"1\" class=\"dataframe\">\n  <thead>\n    <tr style=\"text-align: right;\">\n      <th></th>\n      <th>recipe_id</th>\n      <th>name</th>\n      <th>description</th>\n      <th>user_id</th>\n      <th>servings</th>\n      <th>time</th>\n      <th>favorites_count</th>\n      <th>dishes_count</th>\n      <th>text_steps_count</th>\n      <th>photo_steps_count</th>\n      <th>published_at</th>\n    </tr>\n  </thead>\n  <tbody>\n    <tr>\n      <th>0</th>\n      <td>319968</td>\n      <td>鮮奶燉蛋</td>\n      <td>None</td>\n      <td>2174869</td>\n      <td>2.0</td>\n      <td>15.0</td>\n      <td>116</td>\n      <td>0</td>\n      <td>0</td>\n      <td>4</td>\n      <td>2020-01-01 03:08:24</td>\n    </tr>\n    <tr>\n      <th>1</th>\n      <td>319797</td>\n      <td>初次醃蘿蔔【鬼怪】</td>\n      <td>前陣子電視重播時才迷上「鬼怪」，雖然穿差著看，但老闆娘的「醃蘿蔔」單配酒就很對味的感覺；沒想...</td>\n      <td>61374</td>\n      <td>3.0</td>\n      <td>5.0</td>\n      <td>312</td>\n      <td>3</td>\n      <td>0</td>\n      <td>6</td>\n      <td>2020-01-01 03:14:30</td>\n    </tr>\n    <tr>\n      <th>2</th>\n      <td>311082</td>\n      <td>零基礎免揉-哈拉Challah辮子麵包\\n</td>\n      <td>不需要理論基礎\\n也不需要桌上型攪拌機\\n的五分鐘免揉法\\n在家就能輕鬆烤出香噴噴的麵包\\n...</td>\n      <td>1639091</td>\n      <td>0.0</td>\n      <td>NaN</td>\n      <td>23</td>\n      <td>0</td>\n      <td>0</td>\n      <td>9</td>\n      <td>2020-01-01 03:27:03</td>\n    </tr>\n    <tr>\n      <th>3</th>\n      <td>286167</td>\n      <td>洋蔥豬扒</td>\n      <td>簡單的兩樣食材，没有花巧的煮法，美味可口，吃得滿足。</td>\n      <td>434397</td>\n      <td>4.0</td>\n      <td>20.0</td>\n      <td>31</td>\n      <td>0</td>\n      <td>0</td>\n      <td>5</td>\n      <td>2020-01-01 04:20:26</td>\n    </tr>\n    <tr>\n      <th>4</th>\n      <td>317195</td>\n      <td>蒜香肉絲小松菜</td>\n      <td>None</td>\n      <td>2147254</td>\n      <td>0.0</td>\n      <td>NaN</td>\n      <td>14</td>\n      <td>0</td>\n      <td>4</td>\n      <td>0</td>\n      <td>2020-01-01 04:21:12</td>\n    </tr>\n  </tbody>\n</table>\n</div>",
            "text/plain": "   recipe_id                   name  \\\n0     319968                   鮮奶燉蛋   \n1     319797              初次醃蘿蔔【鬼怪】   \n2     311082  零基礎免揉-哈拉Challah辮子麵包\\n   \n3     286167                   洋蔥豬扒   \n4     317195                蒜香肉絲小松菜   \n\n                                         description  user_id  servings  time  \\\n0                                               None  2174869       2.0  15.0   \n1  前陣子電視重播時才迷上「鬼怪」，雖然穿差著看，但老闆娘的「醃蘿蔔」單配酒就很對味的感覺；沒想...    61374       3.0   5.0   \n2  不需要理論基礎\\n也不需要桌上型攪拌機\\n的五分鐘免揉法\\n在家就能輕鬆烤出香噴噴的麵包\\n...  1639091       0.0   NaN   \n3                         簡單的兩樣食材，没有花巧的煮法，美味可口，吃得滿足。   434397       4.0  20.0   \n4                                               None  2147254       0.0   NaN   \n\n   favorites_count  dishes_count  text_steps_count  photo_steps_count  \\\n0              116             0                 0                  4   \n1              312             3                 0                  6   \n2               23             0                 0                  9   \n3               31             0                 0                  5   \n4               14             0                 4                  0   \n\n         published_at  \n0 2020-01-01 03:08:24  \n1 2020-01-01 03:14:30  \n2 2020-01-01 03:27:03  \n3 2020-01-01 04:20:26  \n4 2020-01-01 04:21:12  "
          },
          "execution_count": 10,
          "metadata": {},
          "output_type": "execute_result"
        }
      ],
      "source": [
        "recipes_df .head()"
      ]
    },
    {
      "cell_type": "code",
      "execution_count": null,
      "metadata": {
        "id": "yLLOGhlQj9Hg",
        "outputId": "60c88736-ff67-4762-d27b-1200e4a70170"
      },
      "outputs": [
        {
          "data": {
            "text/plain": "(1039740, 200851)"
          },
          "execution_count": 11,
          "metadata": {},
          "output_type": "execute_result"
        }
      ],
      "source": [
        "len(favorites_df['user_id']), len(favorites_df['user_id'].unique())"
      ]
    },
    {
      "cell_type": "code",
      "execution_count": null,
      "metadata": {
        "id": "f3Cvtpqmj9Hh"
      },
      "outputs": [],
      "source": [
        "recipe_id_list = favorites_df.groupby('user_id').agg(list)['recipe_id']"
      ]
    },
    {
      "cell_type": "code",
      "execution_count": null,
      "metadata": {
        "id": "yLHcO-aOj9Hh"
      },
      "outputs": [],
      "source": [
        "id_counts = favorites_df.groupby('user_id').count()['recipe_id'].sort_values()"
      ]
    },
    {
      "cell_type": "code",
      "execution_count": null,
      "metadata": {
        "id": "7vWpYmd6j9Hh"
      },
      "outputs": [],
      "source": [
        "recipes = favorites_df.groupby('recipe_id').count()['user_id']\n",
        "users = favorites_df.groupby('user_id').count()['recipe_id']"
      ]
    },
    {
      "cell_type": "code",
      "execution_count": null,
      "metadata": {
        "id": "MjbJw5Tsj9Hh",
        "outputId": "72c727ab-5290-4947-b465-ac8923b0bb33"
      },
      "outputs": [
        {
          "data": {
            "text/plain": "(200850, 84386, 116464, 120475)"
          },
          "execution_count": 15,
          "metadata": {},
          "output_type": "execute_result"
        }
      ],
      "source": [
        "len(id_counts), len(id_counts[id_counts==1]), len(id_counts[id_counts!=1]), len(id_counts[id_counts<=2])"
      ]
    },
    {
      "cell_type": "code",
      "execution_count": null,
      "metadata": {
        "id": "4FloGjwoj9Hi"
      },
      "outputs": [],
      "source": [
        "asin_counts = favorites_df.groupby('recipe_id').count()['user_id'].sort_values()"
      ]
    },
    {
      "cell_type": "code",
      "execution_count": null,
      "metadata": {
        "id": "OMwG4ttwj9Hi",
        "outputId": "8f1ad2cc-1c1b-49f3-90f8-264738a2ad6f"
      },
      "outputs": [
        {
          "data": {
            "text/plain": "(26616, 677, 25939, 1512)"
          },
          "execution_count": 17,
          "metadata": {},
          "output_type": "execute_result"
        }
      ],
      "source": [
        "len(asin_counts), len(asin_counts[asin_counts==1]), len(asin_counts[asin_counts!=1]), len(asin_counts[asin_counts<=2])\n"
      ]
    },
    {
      "cell_type": "code",
      "execution_count": null,
      "metadata": {
        "id": "JK9sfZcWj9Hi"
      },
      "outputs": [],
      "source": [
        "# recipes_counts = recipes_df.groupby('id').count()['user_id'].sort_values()\n",
        "# len(recipes_counts), len(recipes_df)"
      ]
    },
    {
      "cell_type": "code",
      "execution_count": null,
      "metadata": {
        "id": "fs9B0IEQj9Hi"
      },
      "outputs": [],
      "source": [
        "user_list = favorites_df.groupby('user_id').agg(list)['recipe_id']\n"
      ]
    },
    {
      "cell_type": "code",
      "execution_count": null,
      "metadata": {
        "id": "XW5vxCOxj9Hj"
      },
      "outputs": [],
      "source": [
        "from datetime import datetime\n",
        "favorites_df['created_at'] = pd.to_datetime(favorites_df['created_at'], format=\"%Y/%m/%d\")"
      ]
    },
    {
      "cell_type": "code",
      "execution_count": null,
      "metadata": {
        "id": "wGaoz6oHj9Hj",
        "outputId": "654598fe-4175-4c02-b922-0965315da635"
      },
      "outputs": [
        {
          "data": {
            "text/plain": "111       2020-01-01 03:18:53\n395       2020-01-01 03:50:16\n396       2020-01-01 04:17:28\n112       2020-01-01 04:21:10\n415       2020-01-01 04:21:17\n                  ...        \n1038381   2020-12-31 23:53:31\n1022828   2020-12-31 23:54:24\n1000666   2020-12-31 23:55:40\n122194    2020-12-31 23:57:17\n1022920   2020-12-31 23:59:42\nName: created_at, Length: 1039740, dtype: datetime64[ns]"
          },
          "execution_count": 21,
          "metadata": {},
          "output_type": "execute_result"
        }
      ],
      "source": [
        "favorites_df['created_at'].sort_values()"
      ]
    },
    {
      "cell_type": "code",
      "execution_count": null,
      "metadata": {
        "id": "gsof-k0Hj9Hj",
        "outputId": "7c6f80dd-c102-4d4b-81db-02c5d995d8a8"
      },
      "outputs": [
        {
          "data": {
            "text/html": "<div>\n<style scoped>\n    .dataframe tbody tr th:only-of-type {\n        vertical-align: middle;\n    }\n\n    .dataframe tbody tr th {\n        vertical-align: top;\n    }\n\n    .dataframe thead th {\n        text-align: right;\n    }\n</style>\n<table border=\"1\" class=\"dataframe\">\n  <thead>\n    <tr style=\"text-align: right;\">\n      <th></th>\n      <th>user_id</th>\n      <th>recipe_id</th>\n    </tr>\n  </thead>\n  <tbody>\n    <tr>\n      <th>376</th>\n      <td>790100.0</td>\n      <td>319797</td>\n    </tr>\n    <tr>\n      <th>378</th>\n      <td>418260.0</td>\n      <td>319797</td>\n    </tr>\n    <tr>\n      <th>383</th>\n      <td>978862.0</td>\n      <td>319797</td>\n    </tr>\n    <tr>\n      <th>384</th>\n      <td>1447719.0</td>\n      <td>319797</td>\n    </tr>\n    <tr>\n      <th>387</th>\n      <td>1277365.0</td>\n      <td>319797</td>\n    </tr>\n    <tr>\n      <th>...</th>\n      <td>...</td>\n      <td>...</td>\n    </tr>\n    <tr>\n      <th>1039726</th>\n      <td>3107358.0</td>\n      <td>362469</td>\n    </tr>\n    <tr>\n      <th>1039727</th>\n      <td>1164973.0</td>\n      <td>362469</td>\n    </tr>\n    <tr>\n      <th>1039728</th>\n      <td>227516.0</td>\n      <td>362469</td>\n    </tr>\n    <tr>\n      <th>1039729</th>\n      <td>221194.0</td>\n      <td>362469</td>\n    </tr>\n    <tr>\n      <th>1039730</th>\n      <td>1169007.0</td>\n      <td>362469</td>\n    </tr>\n  </tbody>\n</table>\n<p>332901 rows × 2 columns</p>\n</div>",
            "text/plain": "           user_id  recipe_id\n376       790100.0     319797\n378       418260.0     319797\n383       978862.0     319797\n384      1447719.0     319797\n387      1277365.0     319797\n...            ...        ...\n1039726  3107358.0     362469\n1039727  1164973.0     362469\n1039728   227516.0     362469\n1039729   221194.0     362469\n1039730  1169007.0     362469\n\n[332901 rows x 2 columns]"
          },
          "execution_count": 95,
          "metadata": {},
          "output_type": "execute_result"
        }
      ],
      "source": [
        "## REMOVE 只收藏一個項目的ID和recipe\n",
        "import numpy as np\n",
        "date = pd.to_datetime('2020-06-30', format=\"%Y/%m/%d\")\n",
        "data = favorites_df[favorites_df['created_at']>date][['user_id', 'recipe_id']]\n",
        "a = data['user_id'].value_counts()\n",
        "data_drop = data[data['user_id'].isin(a.index[a >= 5]).values]\n",
        "b = data_drop['recipe_id'].value_counts()\n",
        "data_drop = data_drop[data_drop['recipe_id'].isin(b.index[b >= 5]).values]\n",
        "data_drop"
      ]
    },
    {
      "cell_type": "code",
      "execution_count": null,
      "metadata": {
        "id": "QE8X0xqaj9Hj",
        "outputId": "3e3f70ec-0af7-4bba-9c48-ca0fd85a8f97"
      },
      "outputs": [
        {
          "data": {
            "text/html": "<div>\n<style scoped>\n    .dataframe tbody tr th:only-of-type {\n        vertical-align: middle;\n    }\n\n    .dataframe tbody tr th {\n        vertical-align: top;\n    }\n\n    .dataframe thead th {\n        text-align: right;\n    }\n</style>\n<table border=\"1\" class=\"dataframe\">\n  <thead>\n    <tr style=\"text-align: right;\">\n      <th></th>\n      <th>recipe_id</th>\n      <th>name</th>\n      <th>description</th>\n      <th>user_id</th>\n      <th>servings</th>\n      <th>time</th>\n      <th>favorites_count</th>\n      <th>dishes_count</th>\n      <th>text_steps_count</th>\n      <th>photo_steps_count</th>\n      <th>published_at</th>\n    </tr>\n  </thead>\n  <tbody>\n    <tr>\n      <th>0</th>\n      <td>319968</td>\n      <td>鮮奶燉蛋</td>\n      <td>None</td>\n      <td>2174869</td>\n      <td>2.0</td>\n      <td>15.0</td>\n      <td>116</td>\n      <td>0</td>\n      <td>0</td>\n      <td>4</td>\n      <td>2020-01-01 03:08:24</td>\n    </tr>\n    <tr>\n      <th>1</th>\n      <td>319797</td>\n      <td>初次醃蘿蔔【鬼怪】</td>\n      <td>前陣子電視重播時才迷上「鬼怪」，雖然穿差著看，但老闆娘的「醃蘿蔔」單配酒就很對味的感覺；沒想...</td>\n      <td>61374</td>\n      <td>3.0</td>\n      <td>5.0</td>\n      <td>312</td>\n      <td>3</td>\n      <td>0</td>\n      <td>6</td>\n      <td>2020-01-01 03:14:30</td>\n    </tr>\n    <tr>\n      <th>2</th>\n      <td>311082</td>\n      <td>零基礎免揉-哈拉Challah辮子麵包\\n</td>\n      <td>不需要理論基礎\\n也不需要桌上型攪拌機\\n的五分鐘免揉法\\n在家就能輕鬆烤出香噴噴的麵包\\n...</td>\n      <td>1639091</td>\n      <td>0.0</td>\n      <td>NaN</td>\n      <td>23</td>\n      <td>0</td>\n      <td>0</td>\n      <td>9</td>\n      <td>2020-01-01 03:27:03</td>\n    </tr>\n    <tr>\n      <th>3</th>\n      <td>286167</td>\n      <td>洋蔥豬扒</td>\n      <td>簡單的兩樣食材，没有花巧的煮法，美味可口，吃得滿足。</td>\n      <td>434397</td>\n      <td>4.0</td>\n      <td>20.0</td>\n      <td>31</td>\n      <td>0</td>\n      <td>0</td>\n      <td>5</td>\n      <td>2020-01-01 04:20:26</td>\n    </tr>\n    <tr>\n      <th>4</th>\n      <td>317195</td>\n      <td>蒜香肉絲小松菜</td>\n      <td>None</td>\n      <td>2147254</td>\n      <td>0.0</td>\n      <td>NaN</td>\n      <td>14</td>\n      <td>0</td>\n      <td>4</td>\n      <td>0</td>\n      <td>2020-01-01 04:21:12</td>\n    </tr>\n    <tr>\n      <th>...</th>\n      <td>...</td>\n      <td>...</td>\n      <td>...</td>\n      <td>...</td>\n      <td>...</td>\n      <td>...</td>\n      <td>...</td>\n      <td>...</td>\n      <td>...</td>\n      <td>...</td>\n      <td>...</td>\n    </tr>\n    <tr>\n      <th>27353</th>\n      <td>361673</td>\n      <td>藥膳火鍋鍋底</td>\n      <td>最近細雨綿綿加寒風刺骨，來一道熱呼呼藥膳火鍋，輕輕鬆鬆補補身子驅除寒氣。</td>\n      <td>1169417</td>\n      <td>2.0</td>\n      <td>90.0</td>\n      <td>12</td>\n      <td>0</td>\n      <td>0</td>\n      <td>2</td>\n      <td>2020-12-31 15:11:59</td>\n    </tr>\n    <tr>\n      <th>27354</th>\n      <td>362481</td>\n      <td>在家自製斧頭扒～大廚級出馬</td>\n      <td>None</td>\n      <td>562802</td>\n      <td>6.0</td>\n      <td>90.0</td>\n      <td>5</td>\n      <td>0</td>\n      <td>0</td>\n      <td>8</td>\n      <td>2020-12-31 16:16:57</td>\n    </tr>\n    <tr>\n      <th>27355</th>\n      <td>362407</td>\n      <td>皮蛋瘦肉粥（健康）（減肥）（零失敗）</td>\n      <td>蔬菜比例的調配\\n低碳飲食，健康生活\\n冷冷的冬天\\n最適合暖暖的粥?\\n給心愛的人來上一碗吧❤️</td>\n      <td>1122639</td>\n      <td>2.0</td>\n      <td>15.0</td>\n      <td>77</td>\n      <td>0</td>\n      <td>0</td>\n      <td>16</td>\n      <td>2020-12-31 17:29:46</td>\n    </tr>\n    <tr>\n      <th>27356</th>\n      <td>362485</td>\n      <td>簡易櫻花蝦蘿蔔糕</td>\n      <td>因為要煮成蘿蔔糕湯，所以沒有特別加豬肉和香菇。\\n如果要直接煎來吃的可以自己加入豬肉和香菇，...</td>\n      <td>1635600</td>\n      <td>0.0</td>\n      <td>NaN</td>\n      <td>25</td>\n      <td>1</td>\n      <td>0</td>\n      <td>4</td>\n      <td>2020-12-31 20:37:06</td>\n    </tr>\n    <tr>\n      <th>27357</th>\n      <td>362262</td>\n      <td>咔拉炸雞大破解</td>\n      <td>市售的脆粉漿如果讓你食不安心，其實也不要慌，因為喀拉脆粉真的沒有你相像中那麽難。其中的原理，...</td>\n      <td>73832</td>\n      <td>5.0</td>\n      <td>45.0</td>\n      <td>16</td>\n      <td>1</td>\n      <td>0</td>\n      <td>3</td>\n      <td>2020-12-31 22:30:06</td>\n    </tr>\n  </tbody>\n</table>\n<p>27358 rows × 11 columns</p>\n</div>",
            "text/plain": "       recipe_id                   name  \\\n0         319968                   鮮奶燉蛋   \n1         319797              初次醃蘿蔔【鬼怪】   \n2         311082  零基礎免揉-哈拉Challah辮子麵包\\n   \n3         286167                   洋蔥豬扒   \n4         317195                蒜香肉絲小松菜   \n...          ...                    ...   \n27353     361673                 藥膳火鍋鍋底   \n27354     362481          在家自製斧頭扒～大廚級出馬   \n27355     362407     皮蛋瘦肉粥（健康）（減肥）（零失敗）   \n27356     362485               簡易櫻花蝦蘿蔔糕   \n27357     362262                咔拉炸雞大破解   \n\n                                             description  user_id  servings  \\\n0                                                   None  2174869       2.0   \n1      前陣子電視重播時才迷上「鬼怪」，雖然穿差著看，但老闆娘的「醃蘿蔔」單配酒就很對味的感覺；沒想...    61374       3.0   \n2      不需要理論基礎\\n也不需要桌上型攪拌機\\n的五分鐘免揉法\\n在家就能輕鬆烤出香噴噴的麵包\\n...  1639091       0.0   \n3                             簡單的兩樣食材，没有花巧的煮法，美味可口，吃得滿足。   434397       4.0   \n4                                                   None  2147254       0.0   \n...                                                  ...      ...       ...   \n27353               最近細雨綿綿加寒風刺骨，來一道熱呼呼藥膳火鍋，輕輕鬆鬆補補身子驅除寒氣。  1169417       2.0   \n27354                                               None   562802       6.0   \n27355  蔬菜比例的調配\\n低碳飲食，健康生活\\n冷冷的冬天\\n最適合暖暖的粥?\\n給心愛的人來上一碗吧❤️  1122639       2.0   \n27356  因為要煮成蘿蔔糕湯，所以沒有特別加豬肉和香菇。\\n如果要直接煎來吃的可以自己加入豬肉和香菇，...  1635600       0.0   \n27357  市售的脆粉漿如果讓你食不安心，其實也不要慌，因為喀拉脆粉真的沒有你相像中那麽難。其中的原理，...    73832       5.0   \n\n       time  favorites_count  dishes_count  text_steps_count  \\\n0      15.0              116             0                 0   \n1       5.0              312             3                 0   \n2       NaN               23             0                 0   \n3      20.0               31             0                 0   \n4       NaN               14             0                 4   \n...     ...              ...           ...               ...   \n27353  90.0               12             0                 0   \n27354  90.0                5             0                 0   \n27355  15.0               77             0                 0   \n27356   NaN               25             1                 0   \n27357  45.0               16             1                 0   \n\n       photo_steps_count        published_at  \n0                      4 2020-01-01 03:08:24  \n1                      6 2020-01-01 03:14:30  \n2                      9 2020-01-01 03:27:03  \n3                      5 2020-01-01 04:20:26  \n4                      0 2020-01-01 04:21:12  \n...                  ...                 ...  \n27353                  2 2020-12-31 15:11:59  \n27354                  8 2020-12-31 16:16:57  \n27355                 16 2020-12-31 17:29:46  \n27356                  4 2020-12-31 20:37:06  \n27357                  3 2020-12-31 22:30:06  \n\n[27358 rows x 11 columns]"
          },
          "execution_count": 88,
          "metadata": {},
          "output_type": "execute_result"
        }
      ],
      "source": [
        "recipes_df"
      ]
    },
    {
      "cell_type": "code",
      "execution_count": null,
      "metadata": {
        "id": "XqUMUFkJj9Hk",
        "outputId": "3d426878-cde9-4dac-836c-e19b07ffb15c"
      },
      "outputs": [
        {
          "data": {
            "text/html": "<div>\n<style scoped>\n    .dataframe tbody tr th:only-of-type {\n        vertical-align: middle;\n    }\n\n    .dataframe tbody tr th {\n        vertical-align: top;\n    }\n\n    .dataframe thead th {\n        text-align: right;\n    }\n</style>\n<table border=\"1\" class=\"dataframe\">\n  <thead>\n    <tr style=\"text-align: right;\">\n      <th></th>\n      <th>user_id</th>\n      <th>recipe_id</th>\n      <th>rating</th>\n    </tr>\n  </thead>\n  <tbody>\n    <tr>\n      <th>376</th>\n      <td>790100.0</td>\n      <td>319797</td>\n      <td>1</td>\n    </tr>\n    <tr>\n      <th>378</th>\n      <td>418260.0</td>\n      <td>319797</td>\n      <td>1</td>\n    </tr>\n    <tr>\n      <th>383</th>\n      <td>978862.0</td>\n      <td>319797</td>\n      <td>1</td>\n    </tr>\n    <tr>\n      <th>384</th>\n      <td>1447719.0</td>\n      <td>319797</td>\n      <td>1</td>\n    </tr>\n    <tr>\n      <th>387</th>\n      <td>1277365.0</td>\n      <td>319797</td>\n      <td>1</td>\n    </tr>\n    <tr>\n      <th>...</th>\n      <td>...</td>\n      <td>...</td>\n      <td>...</td>\n    </tr>\n    <tr>\n      <th>1039726</th>\n      <td>3107358.0</td>\n      <td>362469</td>\n      <td>1</td>\n    </tr>\n    <tr>\n      <th>1039727</th>\n      <td>1164973.0</td>\n      <td>362469</td>\n      <td>1</td>\n    </tr>\n    <tr>\n      <th>1039728</th>\n      <td>227516.0</td>\n      <td>362469</td>\n      <td>1</td>\n    </tr>\n    <tr>\n      <th>1039729</th>\n      <td>221194.0</td>\n      <td>362469</td>\n      <td>1</td>\n    </tr>\n    <tr>\n      <th>1039730</th>\n      <td>1169007.0</td>\n      <td>362469</td>\n      <td>1</td>\n    </tr>\n  </tbody>\n</table>\n<p>332901 rows × 3 columns</p>\n</div>",
            "text/plain": "           user_id  recipe_id  rating\n376       790100.0     319797       1\n378       418260.0     319797       1\n383       978862.0     319797       1\n384      1447719.0     319797       1\n387      1277365.0     319797       1\n...            ...        ...     ...\n1039726  3107358.0     362469       1\n1039727  1164973.0     362469       1\n1039728   227516.0     362469       1\n1039729   221194.0     362469       1\n1039730  1169007.0     362469       1\n\n[332901 rows x 3 columns]"
          },
          "execution_count": 90,
          "metadata": {},
          "output_type": "execute_result"
        }
      ],
      "source": [
        "data_drop"
      ]
    },
    {
      "cell_type": "code",
      "execution_count": null,
      "metadata": {
        "id": "WqCfJrxMj9Hk"
      },
      "outputs": [],
      "source": [
        "data_merge = data_drop.merge(recipes_df[['recipe_id', 'favorites_count']],how='left', on='recipe_id')\n",
        "data_merge['user_id'] = data_merge['user_id'].astype(int).astype(str)"
      ]
    },
    {
      "cell_type": "code",
      "execution_count": null,
      "metadata": {
        "id": "gJYUPw6Uj9Hk",
        "outputId": "49fa774d-7948-4340-b5d5-8f872b2705d7"
      },
      "outputs": [
        {
          "data": {
            "text/html": "<div>\n<style scoped>\n    .dataframe tbody tr th:only-of-type {\n        vertical-align: middle;\n    }\n\n    .dataframe tbody tr th {\n        vertical-align: top;\n    }\n\n    .dataframe thead th {\n        text-align: right;\n    }\n</style>\n<table border=\"1\" class=\"dataframe\">\n  <thead>\n    <tr style=\"text-align: right;\">\n      <th></th>\n      <th>user_id</th>\n      <th>recipe_id</th>\n      <th>favorites_count</th>\n    </tr>\n  </thead>\n  <tbody>\n    <tr>\n      <th>204077</th>\n      <td>1680423.0</td>\n      <td>350649</td>\n      <td>5</td>\n    </tr>\n    <tr>\n      <th>269753</th>\n      <td>2961827.0</td>\n      <td>355737</td>\n      <td>5</td>\n    </tr>\n    <tr>\n      <th>269889</th>\n      <td>1620925.0</td>\n      <td>355856</td>\n      <td>5</td>\n    </tr>\n    <tr>\n      <th>269890</th>\n      <td>754960.0</td>\n      <td>355856</td>\n      <td>5</td>\n    </tr>\n    <tr>\n      <th>269891</th>\n      <td>1329089.0</td>\n      <td>355856</td>\n      <td>5</td>\n    </tr>\n    <tr>\n      <th>...</th>\n      <td>...</td>\n      <td>...</td>\n      <td>...</td>\n    </tr>\n    <tr>\n      <th>151322</th>\n      <td>49586.0</td>\n      <td>346764</td>\n      <td>3412</td>\n    </tr>\n    <tr>\n      <th>151323</th>\n      <td>2971164.0</td>\n      <td>346764</td>\n      <td>3412</td>\n    </tr>\n    <tr>\n      <th>151324</th>\n      <td>1808410.0</td>\n      <td>346764</td>\n      <td>3412</td>\n    </tr>\n    <tr>\n      <th>151326</th>\n      <td>2187861.0</td>\n      <td>346764</td>\n      <td>3412</td>\n    </tr>\n    <tr>\n      <th>151148</th>\n      <td>1126372.0</td>\n      <td>346764</td>\n      <td>3412</td>\n    </tr>\n  </tbody>\n</table>\n<p>332901 rows × 3 columns</p>\n</div>",
            "text/plain": "          user_id  recipe_id  favorites_count\n204077  1680423.0     350649                5\n269753  2961827.0     355737                5\n269889  1620925.0     355856                5\n269890   754960.0     355856                5\n269891  1329089.0     355856                5\n...           ...        ...              ...\n151322    49586.0     346764             3412\n151323  2971164.0     346764             3412\n151324  1808410.0     346764             3412\n151326  2187861.0     346764             3412\n151148  1126372.0     346764             3412\n\n[332901 rows x 3 columns]"
          },
          "execution_count": 104,
          "metadata": {},
          "output_type": "execute_result"
        }
      ],
      "source": [
        "data_merge.sort_values('favorites_count')"
      ]
    },
    {
      "cell_type": "code",
      "execution_count": null,
      "metadata": {
        "id": "5PN1IfWTj9Hk",
        "outputId": "dc66bef3-fb6f-4d53-f490-37847630caee"
      },
      "outputs": [
        {
          "data": {
            "text/plain": "14958"
          },
          "execution_count": 23,
          "metadata": {},
          "output_type": "execute_result"
        }
      ],
      "source": [
        "len(data_drop['recipe_id'].unique())"
      ]
    },
    {
      "cell_type": "code",
      "execution_count": null,
      "metadata": {
        "id": "A5M1hEi7j9Hm"
      },
      "outputs": [],
      "source": [
        "import time\n",
        "import pandas as pd\n",
        "from surprise import Reader\n",
        "from surprise import Dataset\n",
        "from surprise import KNNBasic"
      ]
    },
    {
      "cell_type": "code",
      "execution_count": null,
      "metadata": {
        "id": "yMT8r5ymj9Hn"
      },
      "outputs": [],
      "source": [
        "training_data = data_merge\n",
        "k=3\n",
        "min_value = training_data.sort_values('favorites_count')['favorites_count'].head(1)\n",
        "max_value = training_data.sort_values('favorites_count')['favorites_count'].tail(1)\n",
        "reader = Reader(rating_scale=(0,5))\n",
        "# training_data = training_data[['user_id', 'recipe_id']]\n",
        "data = Dataset.load_from_df(training_data, reader=reader)\n",
        "\n",
        "# sim_options = {\n",
        "#     'name': 'cosine',\n",
        "#     'user_based': user_based  # compute similarities between items\n",
        "# }\n",
        "# algo_impl = algo(sim_options=sim_options)\n",
        "# trainset = data.build_full_trainset()\n",
        "# algo_impl.fit(trainset)\n",
        "# algo = KNNBasic\n",
        "training_data = (\n",
        "    training_data\n",
        "    # .sort_values(\"DATE\", ascending=False)\n",
        "    .groupby(['user_id']).head(1)\n",
        ")\n",
        "\n",
        "reader = Reader(rating_scale=(min_value, max_value))\n",
        "# training_data = training_data.rename(columns={'user_id':'userID', 'recipe_id':'itemID', 'favorites_count':'rating'})\n",
        "data = Dataset.load_from_df(training_data, reader=reader)\n",
        "trainset = data.build_full_trainset()\n",
        "algo_impl.fit(trainset)"
      ]
    },
    {
      "cell_type": "code",
      "execution_count": null,
      "metadata": {
        "id": "r_iktrD1j9Hn",
        "outputId": "62d2635e-c197-4c74-8f2f-3e7ef052136d"
      },
      "outputs": [
        {
          "data": {
            "text/html": "<div>\n<style scoped>\n    .dataframe tbody tr th:only-of-type {\n        vertical-align: middle;\n    }\n\n    .dataframe tbody tr th {\n        vertical-align: top;\n    }\n\n    .dataframe thead th {\n        text-align: right;\n    }\n</style>\n<table border=\"1\" class=\"dataframe\">\n  <thead>\n    <tr style=\"text-align: right;\">\n      <th></th>\n      <th>user_id</th>\n      <th>recipe_id</th>\n      <th>favorites_count</th>\n      <th>editor</th>\n    </tr>\n  </thead>\n  <tbody>\n    <tr>\n      <th>0</th>\n      <td>790100</td>\n      <td>319797</td>\n      <td>312</td>\n      <td>0</td>\n    </tr>\n    <tr>\n      <th>1</th>\n      <td>418260</td>\n      <td>319797</td>\n      <td>312</td>\n      <td>0</td>\n    </tr>\n    <tr>\n      <th>2</th>\n      <td>978862</td>\n      <td>319797</td>\n      <td>312</td>\n      <td>0</td>\n    </tr>\n    <tr>\n      <th>3</th>\n      <td>1447719</td>\n      <td>319797</td>\n      <td>312</td>\n      <td>0</td>\n    </tr>\n    <tr>\n      <th>4</th>\n      <td>1277365</td>\n      <td>319797</td>\n      <td>312</td>\n      <td>0</td>\n    </tr>\n    <tr>\n      <th>...</th>\n      <td>...</td>\n      <td>...</td>\n      <td>...</td>\n      <td>...</td>\n    </tr>\n    <tr>\n      <th>332896</th>\n      <td>3107358</td>\n      <td>362469</td>\n      <td>52</td>\n      <td>0</td>\n    </tr>\n    <tr>\n      <th>332897</th>\n      <td>1164973</td>\n      <td>362469</td>\n      <td>52</td>\n      <td>0</td>\n    </tr>\n    <tr>\n      <th>332898</th>\n      <td>227516</td>\n      <td>362469</td>\n      <td>52</td>\n      <td>0</td>\n    </tr>\n    <tr>\n      <th>332899</th>\n      <td>221194</td>\n      <td>362469</td>\n      <td>52</td>\n      <td>0</td>\n    </tr>\n    <tr>\n      <th>332900</th>\n      <td>1169007</td>\n      <td>362469</td>\n      <td>52</td>\n      <td>0</td>\n    </tr>\n  </tbody>\n</table>\n<p>332901 rows × 4 columns</p>\n</div>",
            "text/plain": "        user_id  recipe_id  favorites_count editor\n0        790100     319797              312      0\n1        418260     319797              312      0\n2        978862     319797              312      0\n3       1447719     319797              312      0\n4       1277365     319797              312      0\n...         ...        ...              ...    ...\n332896  3107358     362469               52      0\n332897  1164973     362469               52      0\n332898   227516     362469               52      0\n332899   221194     362469               52      0\n332900  1169007     362469               52      0\n\n[332901 rows x 4 columns]"
          },
          "execution_count": 315,
          "metadata": {},
          "output_type": "execute_result"
        }
      ],
      "source": [
        "training_data"
      ]
    },
    {
      "cell_type": "code",
      "execution_count": null,
      "metadata": {
        "id": "imePbTu_j9Hn",
        "outputId": "2e7b5a0d-4f2e-452f-9861-eaf784c96865"
      },
      "outputs": [
        {
          "data": {
            "text/plain": "22946"
          },
          "execution_count": 145,
          "metadata": {},
          "output_type": "execute_result"
        }
      ],
      "source": [
        "len(merge_users)"
      ]
    },
    {
      "cell_type": "code",
      "execution_count": null,
      "metadata": {
        "id": "dnGYZB5Qj9Hn"
      },
      "outputs": [],
      "source": [
        "data_merge_group = data_merge.groupby('user_id').agg(list)['recipe_id']"
      ]
    },
    {
      "cell_type": "code",
      "execution_count": null,
      "metadata": {
        "id": "ElJcAk9gj9Hn"
      },
      "outputs": [],
      "source": [
        "recommendation1 = {}\n",
        "merge_users = data_merge['user_id'].unique()\n",
        "for user in merge_users[:22939]:\n",
        "    items_user_rated = set(training_data.loc[training_data['user_id'] == user]['recipe_id'].to_list())\n",
        "    recommend_item_list = []\n",
        "    recommend_item_set = set()\n",
        "    for item in items_user_rated:\n",
        "        iid = algo_impl.trainset.to_inner_iid(item)\n",
        "        recommend_items_iid = algo_impl.get_neighbors(iid, 7)\n",
        "        for sim_item_iid in recommend_items_iid:\n",
        "            item_raw_id = algo_impl.trainset.to_raw_iid(sim_item_iid)\n",
        "            if item_raw_id not in items_user_rated and item_raw_id not in recommend_item_set:\n",
        "                recommend_item_list.append(item_raw_id)\n",
        "                recommend_item_set.add(item_raw_id)\n",
        "\n",
        "        if len(recommend_item_list) >= k:\n",
        "            [recommend_item_list.remove(ii) for ii in recommend_item_list if ii in data_merge_group[data_merge_group.index == user][0]]\n",
        "            recommend_item_list = recommend_item_list[:k]\n",
        "            break\n",
        "    recommendation1[user] = recommend_item_list[:k]"
      ]
    },
    {
      "cell_type": "code",
      "execution_count": null,
      "metadata": {
        "id": "AqUhbxXpj9Ho",
        "outputId": "1e47df32-4d2d-48e4-f6f9-e2ffeb48f2d8"
      },
      "outputs": [
        {
          "data": {
            "text/plain": "(332901, 22946)"
          },
          "execution_count": 312,
          "metadata": {},
          "output_type": "execute_result"
        }
      ],
      "source": [
        "len(data_merge), len(data_merge['user_id'].unique())"
      ]
    },
    {
      "cell_type": "code",
      "execution_count": null,
      "metadata": {
        "id": "lEk4_WUWj9Ho",
        "outputId": "95b9a65c-d09e-4f24-ff12-d96a90d382f8"
      },
      "outputs": [
        {
          "data": {
            "text/plain": "(22946, 22946)"
          },
          "execution_count": 308,
          "metadata": {},
          "output_type": "execute_result"
        }
      ],
      "source": [
        "len(training_data['user_id'].unique()), len(training_data['user_id'])"
      ]
    },
    {
      "cell_type": "code",
      "execution_count": null,
      "metadata": {
        "id": "lCBRTL88j9Ho",
        "outputId": "b9e66288-863d-4cc1-c031-1479b2a127f9"
      },
      "outputs": [
        {
          "data": {
            "text/html": "<div>\n<style scoped>\n    .dataframe tbody tr th:only-of-type {\n        vertical-align: middle;\n    }\n\n    .dataframe tbody tr th {\n        vertical-align: top;\n    }\n\n    .dataframe thead th {\n        text-align: right;\n    }\n</style>\n<table border=\"1\" class=\"dataframe\">\n  <thead>\n    <tr style=\"text-align: right;\">\n      <th></th>\n      <th>user_id</th>\n      <th>recipe_id</th>\n      <th>favorites_count</th>\n    </tr>\n  </thead>\n  <tbody>\n    <tr>\n      <th>10</th>\n      <td>1082944</td>\n      <td>319979</td>\n      <td>201</td>\n    </tr>\n  </tbody>\n</table>\n</div>",
            "text/plain": "    user_id  recipe_id  favorites_count\n10  1082944     319979              201"
          },
          "execution_count": 307,
          "metadata": {},
          "output_type": "execute_result"
        }
      ],
      "source": [
        "training_data[training_data['user_id'] == merge_users[10]]"
      ]
    },
    {
      "cell_type": "code",
      "execution_count": null,
      "metadata": {
        "id": "3_BxNqoJj9Hq",
        "outputId": "3ddb7888-9e03-4bf3-c390-8040a4b14bfe"
      },
      "outputs": [
        {
          "data": {
            "text/plain": "247061     73616\n247057     73616\n247058     73616\n247059     73616\n247060     73616\n           ...  \n332895    362470\n332893    362470\n332892    362470\n332891    362470\n332894    362470\nName: recipe_id, Length: 332901, dtype: int64"
          },
          "execution_count": 251,
          "metadata": {},
          "output_type": "execute_result"
        }
      ],
      "source": [
        "data_merge['recipe_id'].sort_values()"
      ]
    },
    {
      "cell_type": "code",
      "execution_count": null,
      "metadata": {
        "id": "XtM3Vm_0j9Hr",
        "outputId": "c780daf8-8727-4012-dc69-56a42e27dbc0"
      },
      "outputs": [
        {
          "data": {
            "text/plain": "Index(['recipe_id', 'name', 'description', 'user_id', 'servings', 'time',\n       'favorites_count', 'dishes_count', 'text_steps_count',\n       'photo_steps_count', 'published_at'],\n      dtype='object')"
          },
          "execution_count": 351,
          "metadata": {},
          "output_type": "execute_result"
        }
      ],
      "source": [
        "recipes_df.columns"
      ]
    },
    {
      "cell_type": "code",
      "execution_count": null,
      "metadata": {
        "id": "wuX7t0dmj9Hr"
      },
      "outputs": [],
      "source": [
        "recipe_list = data_merge.groupby('recipe_id').count()['user_id']\n",
        "recipe_list = pd.DataFrame(recipe_list).merge(recipes_df[['recipe_id', 'favorites_count']], how='left', on='recipe_id')"
      ]
    },
    {
      "cell_type": "code",
      "execution_count": null,
      "metadata": {
        "id": "4hSJNnyXj9Hr",
        "outputId": "8f0ba818-c44b-453f-9544-f7869af81d1a"
      },
      "outputs": [
        {
          "data": {
            "text/html": "<div>\n<style scoped>\n    .dataframe tbody tr th:only-of-type {\n        vertical-align: middle;\n    }\n\n    .dataframe tbody tr th {\n        vertical-align: top;\n    }\n\n    .dataframe thead th {\n        text-align: right;\n    }\n</style>\n<table border=\"1\" class=\"dataframe\">\n  <thead>\n    <tr style=\"text-align: right;\">\n      <th></th>\n      <th>recipe_id</th>\n      <th>user_id</th>\n      <th>favorites_count</th>\n    </tr>\n  </thead>\n  <tbody>\n    <tr>\n      <th>0</th>\n      <td>73616</td>\n      <td>9</td>\n      <td>41</td>\n    </tr>\n    <tr>\n      <th>1</th>\n      <td>102518</td>\n      <td>11</td>\n      <td>36</td>\n    </tr>\n    <tr>\n      <th>2</th>\n      <td>118471</td>\n      <td>67</td>\n      <td>183</td>\n    </tr>\n    <tr>\n      <th>3</th>\n      <td>135505</td>\n      <td>8</td>\n      <td>41</td>\n    </tr>\n    <tr>\n      <th>4</th>\n      <td>150173</td>\n      <td>10</td>\n      <td>60</td>\n    </tr>\n    <tr>\n      <th>...</th>\n      <td>...</td>\n      <td>...</td>\n      <td>...</td>\n    </tr>\n    <tr>\n      <th>14953</th>\n      <td>362429</td>\n      <td>6</td>\n      <td>45</td>\n    </tr>\n    <tr>\n      <th>14954</th>\n      <td>362430</td>\n      <td>5</td>\n      <td>23</td>\n    </tr>\n    <tr>\n      <th>14955</th>\n      <td>362463</td>\n      <td>6</td>\n      <td>52</td>\n    </tr>\n    <tr>\n      <th>14956</th>\n      <td>362469</td>\n      <td>5</td>\n      <td>52</td>\n    </tr>\n    <tr>\n      <th>14957</th>\n      <td>362470</td>\n      <td>5</td>\n      <td>70</td>\n    </tr>\n  </tbody>\n</table>\n<p>14958 rows × 3 columns</p>\n</div>",
            "text/plain": "       recipe_id  user_id  favorites_count\n0          73616        9               41\n1         102518       11               36\n2         118471       67              183\n3         135505        8               41\n4         150173       10               60\n...          ...      ...              ...\n14953     362429        6               45\n14954     362430        5               23\n14955     362463        6               52\n14956     362469        5               52\n14957     362470        5               70\n\n[14958 rows x 3 columns]"
          },
          "execution_count": 354,
          "metadata": {},
          "output_type": "execute_result"
        }
      ],
      "source": [
        "recipe_list"
      ]
    },
    {
      "cell_type": "code",
      "source": [
        "def evaluate(ratings_testings_by_user={}, ratings_by_user={}, method=None):\n",
        "    '''\n",
        "    * ratings_testings_by_user: dict 真實被購買的商品資料（2018-09-01 以後資料）\n",
        "    * ratings_by_user: dict 利用訓練資料學習的推薦商品\n",
        "    * method: str\n",
        "    * score: float\n",
        "    '''\n",
        "    total = 0\n",
        "    for d in ratings_testings_by_user:\n",
        "        if d in ratings_by_user:\n",
        "            total += len(set(ratings_by_user[d]) & set(ratings_testings_by_user[d]))\n",
        "    score = total / len(testings)\n",
        "    return score\n",
        "# evaluate(ratings_testings_by_user, ratings_by_user)"
      ],
      "metadata": {
        "id": "Aqkrzz05kpb-"
      },
      "execution_count": null,
      "outputs": []
    },
    {
      "cell_type": "code",
      "execution_count": null,
      "metadata": {
        "id": "vQao8WX4j9Hr"
      },
      "outputs": [],
      "source": [
        "top_10 = recipe_list.sort_values(['user_id','favorites_count'], ascending=False)['recipe_id'].index.to_list()[:10]\n",
        "recommendation = {}\n",
        "\n",
        "for user in merge_users:\n",
        "  lists = top_10\n",
        "  [lists.drop(item) for item in lists if item in data_merge_group[data_merge_group.index==user][0]]\n",
        "  recommendation[user] = lists[:3]\n"
      ]
    },
    {
      "cell_type": "code",
      "execution_count": null,
      "metadata": {
        "id": "6C8247y4j9Hr",
        "outputId": "e9dfabc9-de73-4a69-d426-1a4df289a65e"
      },
      "outputs": [
        {
          "data": {
            "text/plain": "[11808, 10155, 8047, 10878, 10073, 11893, 5682, 9806, 9840, 11552]"
          },
          "execution_count": 357,
          "metadata": {},
          "output_type": "execute_result"
        }
      ],
      "source": [
        "top_10"
      ]
    },
    {
      "cell_type": "code",
      "execution_count": null,
      "metadata": {
        "id": "gbaZz_QFj9Hr",
        "outputId": "d9d9aa36-2197-4936-9ea2-f240460a4ef1"
      },
      "outputs": [
        {
          "data": {
            "text/html": "<div>\n<style scoped>\n    .dataframe tbody tr th:only-of-type {\n        vertical-align: middle;\n    }\n\n    .dataframe tbody tr th {\n        vertical-align: top;\n    }\n\n    .dataframe thead th {\n        text-align: right;\n    }\n</style>\n<table border=\"1\" class=\"dataframe\">\n  <thead>\n    <tr style=\"text-align: right;\">\n      <th></th>\n      <th>recommender_list</th>\n      <th>score</th>\n    </tr>\n  </thead>\n  <tbody>\n    <tr>\n      <th>0</th>\n      <td>0</td>\n      <td>0.0</td>\n    </tr>\n  </tbody>\n</table>\n</div>",
            "text/plain": "  recommender_list  score\n0                0    0.0"
          },
          "execution_count": 358,
          "metadata": {},
          "output_type": "execute_result"
        }
      ],
      "source": [
        "## rule-based\n",
        "evaluate_result = {}\n",
        "n = 0\n",
        "\n",
        "ratings_by_user = {}\n",
        "ratings_by_user = recommendation\n",
        "evaluate_result[str(n)] = evaluate(testings, ratings_by_user)\n",
        "n += 1\n",
        "result = pd.DataFrame(list(evaluate_result.items()), columns=['recommender_list', 'score'])\n",
        "\n",
        "result\n"
      ]
    },
    {
      "cell_type": "markdown",
      "source": [
        "##後面的還在測試中"
      ],
      "metadata": {
        "id": "XL0Lcqnsk4oy"
      }
    },
    {
      "cell_type": "code",
      "execution_count": null,
      "metadata": {
        "id": "YsGiXTQtj9Hs"
      },
      "outputs": [],
      "source": [
        "testings = test_favorites_df.groupby('user_id').agg(list).reset_index()\n",
        "testings['user_id'] = testings['user_id'].astype(str)"
      ]
    },
    {
      "cell_type": "code",
      "execution_count": null,
      "metadata": {
        "id": "pef6bd_4j9Hs",
        "outputId": "17630d77-6a41-4e20-dd53-21734e162bb8"
      },
      "outputs": [
        {
          "data": {
            "text/html": "<div>\n<style scoped>\n    .dataframe tbody tr th:only-of-type {\n        vertical-align: middle;\n    }\n\n    .dataframe tbody tr th {\n        vertical-align: top;\n    }\n\n    .dataframe thead th {\n        text-align: right;\n    }\n</style>\n<table border=\"1\" class=\"dataframe\">\n  <thead>\n    <tr style=\"text-align: right;\">\n      <th></th>\n      <th>recommender_list</th>\n      <th>score</th>\n    </tr>\n  </thead>\n  <tbody>\n    <tr>\n      <th>0</th>\n      <td>0</td>\n      <td>0.0</td>\n    </tr>\n  </tbody>\n</table>\n</div>",
            "text/plain": "  recommender_list  score\n0                0    0.0"
          },
          "execution_count": 271,
          "metadata": {},
          "output_type": "execute_result"
        }
      ],
      "source": [
        "evaluate_result = {}\n",
        "n = 0\n",
        "\n",
        "ratings_by_user = {}\n",
        "ratings_by_user = recommendation1\n",
        "evaluate_result[str(n)] = evaluate(testings, ratings_by_user)\n",
        "n += 1\n",
        "result = pd.DataFrame(list(evaluate_result.items()), columns=['recommender_list', 'score'])\n",
        "\n",
        "result\n"
      ]
    },
    {
      "cell_type": "code",
      "execution_count": null,
      "metadata": {
        "id": "d5hECZmjj9Ht",
        "outputId": "3c213166-42dd-4f93-87bf-a115bc804d2b"
      },
      "outputs": [
        {
          "data": {
            "text/plain": "('418260',\n [319979, 319973, 319939],\n      user_id                                          recipe_id\n 4930  418260  [351533, 341967, 361426, 349791, 347476, 33432...)"
          },
          "execution_count": 174,
          "metadata": {},
          "output_type": "execute_result"
        }
      ],
      "source": [
        "merge_users[1], recommendation[merge_users[1]], testings[testings['user_id']==merge_users[1]]"
      ]
    },
    {
      "cell_type": "code",
      "execution_count": null,
      "metadata": {
        "id": "01ahkb_aj9Ht",
        "outputId": "731e1c06-ae7c-48ca-adfc-055c821f088a"
      },
      "outputs": [
        {
          "data": {
            "text/plain": "array(['322', '349', '721', ..., '3152766', '3152773', '3152819'],\n      dtype=object)"
          },
          "execution_count": 170,
          "metadata": {},
          "output_type": "execute_result"
        }
      ],
      "source": [
        "testings['user_id'].unique()"
      ]
    },
    {
      "cell_type": "code",
      "execution_count": null,
      "metadata": {
        "id": "Eedmb_Cij9Ht"
      },
      "outputs": [],
      "source": [
        "a = []\n",
        "for ii in range(0, len(testings['user_id'].unique())):\n",
        "  if test_favorites_df['user_id'].unique()[ii] in merge_users:\n",
        "    a.append(ii)"
      ]
    },
    {
      "cell_type": "code",
      "execution_count": null,
      "metadata": {
        "id": "EBSwZg4cj9Ht",
        "outputId": "86e60cd7-b4f1-4933-cb0f-45f8d8e303fb"
      },
      "outputs": [
        {
          "data": {
            "text/plain": "(numpy.int64, '790100')"
          },
          "execution_count": 168,
          "metadata": {},
          "output_type": "execute_result"
        }
      ],
      "source": [
        "type(test_favorites_df['user_id'][0]),  merge_users[0]"
      ]
    },
    {
      "cell_type": "code",
      "execution_count": null,
      "metadata": {
        "id": "_QcZALXij9Ht",
        "outputId": "b87beb63-9c0d-4146-de7c-d3e1cc43a832"
      },
      "outputs": [
        {
          "data": {
            "text/html": "<div>\n<style scoped>\n    .dataframe tbody tr th:only-of-type {\n        vertical-align: middle;\n    }\n\n    .dataframe tbody tr th {\n        vertical-align: top;\n    }\n\n    .dataframe thead th {\n        text-align: right;\n    }\n</style>\n<table border=\"1\" class=\"dataframe\">\n  <thead>\n    <tr style=\"text-align: right;\">\n      <th></th>\n      <th>user_id</th>\n      <th>recipe_id</th>\n    </tr>\n  </thead>\n  <tbody>\n  </tbody>\n</table>\n</div>",
            "text/plain": "Empty DataFrame\nColumns: [user_id, recipe_id]\nIndex: []"
          },
          "execution_count": 164,
          "metadata": {},
          "output_type": "execute_result"
        }
      ],
      "source": [
        "testings.iloc[a]"
      ]
    },
    {
      "cell_type": "code",
      "execution_count": null,
      "metadata": {
        "id": "Grrk-QO2j9Ht"
      },
      "outputs": [],
      "source": [
        "# # 以 userId 第一位作為示範\n",
        "# user_1 = data_drop.loc['1474700.0']\n",
        "# user_1 = user_1.reset_index() # 這時原先的 Books 就會被放到第一行\n",
        "# user_1.columns = ['user_id', 'recipe_id']\n",
        "\n",
        "# # 以 user 001 來計算出他的加權 TF-IDF score，有 reindex 和 loc 可以使用\n",
        "# ## 第一種方式\n",
        "# tfidf_user_enjoyed = tfidf_summary.reindex(user_1.Books.tolist())\n",
        "# ## 第二種方式\n",
        "# tfidf_user_enjoyed = tfidf_summary.loc[user_1.Books.tolist(), :]\n",
        "\n",
        "# ＃計算 user 的 TF-IDF score\n",
        "# tfidf_user_prob = tfidf_user_enjoyed.mean()"
      ]
    },
    {
      "cell_type": "code",
      "execution_count": null,
      "metadata": {
        "id": "Jvp9Cv1Cj9Ht",
        "outputId": "5a0f4f1a-8328-4342-fbac-436e0f9a1900"
      },
      "outputs": [
        {
          "data": {
            "text/html": "<div>\n<style scoped>\n    .dataframe tbody tr th:only-of-type {\n        vertical-align: middle;\n    }\n\n    .dataframe tbody tr th {\n        vertical-align: top;\n    }\n\n    .dataframe thead th {\n        text-align: right;\n    }\n</style>\n<table border=\"1\" class=\"dataframe\">\n  <thead>\n    <tr style=\"text-align: right;\">\n      <th></th>\n      <th>0</th>\n      <th>1</th>\n      <th>2</th>\n      <th>3</th>\n      <th>4</th>\n      <th>5</th>\n      <th>6</th>\n      <th>7</th>\n      <th>8</th>\n      <th>9</th>\n      <th>...</th>\n      <th>7371</th>\n      <th>7372</th>\n      <th>7373</th>\n      <th>7374</th>\n      <th>7375</th>\n      <th>7376</th>\n      <th>7377</th>\n      <th>7378</th>\n      <th>7379</th>\n      <th>7380</th>\n    </tr>\n  </thead>\n  <tbody>\n    <tr>\n      <th>0</th>\n      <td>0.0</td>\n      <td>0.0</td>\n      <td>0.0</td>\n      <td>0.0</td>\n      <td>0.0</td>\n      <td>0.0</td>\n      <td>0.0</td>\n      <td>0.0</td>\n      <td>0.0</td>\n      <td>0.0</td>\n      <td>...</td>\n      <td>0.0</td>\n      <td>0.0</td>\n      <td>0.0</td>\n      <td>0.0</td>\n      <td>0.0</td>\n      <td>0.0</td>\n      <td>0.0</td>\n      <td>0.0</td>\n      <td>0.0</td>\n      <td>0.0</td>\n    </tr>\n    <tr>\n      <th>1</th>\n      <td>0.0</td>\n      <td>0.0</td>\n      <td>0.0</td>\n      <td>0.0</td>\n      <td>0.0</td>\n      <td>0.0</td>\n      <td>0.0</td>\n      <td>0.0</td>\n      <td>0.0</td>\n      <td>0.0</td>\n      <td>...</td>\n      <td>0.0</td>\n      <td>0.0</td>\n      <td>0.0</td>\n      <td>0.0</td>\n      <td>0.0</td>\n      <td>0.0</td>\n      <td>0.0</td>\n      <td>0.0</td>\n      <td>0.0</td>\n      <td>0.0</td>\n    </tr>\n    <tr>\n      <th>2</th>\n      <td>0.0</td>\n      <td>0.0</td>\n      <td>0.0</td>\n      <td>0.0</td>\n      <td>0.0</td>\n      <td>0.0</td>\n      <td>0.0</td>\n      <td>0.0</td>\n      <td>0.0</td>\n      <td>0.0</td>\n      <td>...</td>\n      <td>0.0</td>\n      <td>0.0</td>\n      <td>0.0</td>\n      <td>0.0</td>\n      <td>0.0</td>\n      <td>0.0</td>\n      <td>0.0</td>\n      <td>0.0</td>\n      <td>0.0</td>\n      <td>0.0</td>\n    </tr>\n    <tr>\n      <th>3</th>\n      <td>0.0</td>\n      <td>0.0</td>\n      <td>0.0</td>\n      <td>0.0</td>\n      <td>0.0</td>\n      <td>0.0</td>\n      <td>0.0</td>\n      <td>0.0</td>\n      <td>0.0</td>\n      <td>0.0</td>\n      <td>...</td>\n      <td>0.0</td>\n      <td>0.0</td>\n      <td>0.0</td>\n      <td>0.0</td>\n      <td>0.0</td>\n      <td>0.0</td>\n      <td>0.0</td>\n      <td>0.0</td>\n      <td>0.0</td>\n      <td>0.0</td>\n    </tr>\n    <tr>\n      <th>4</th>\n      <td>0.0</td>\n      <td>0.0</td>\n      <td>0.0</td>\n      <td>0.0</td>\n      <td>0.0</td>\n      <td>0.0</td>\n      <td>0.0</td>\n      <td>0.0</td>\n      <td>0.0</td>\n      <td>0.0</td>\n      <td>...</td>\n      <td>0.0</td>\n      <td>0.0</td>\n      <td>0.0</td>\n      <td>0.0</td>\n      <td>0.0</td>\n      <td>0.0</td>\n      <td>0.0</td>\n      <td>0.0</td>\n      <td>0.0</td>\n      <td>0.0</td>\n    </tr>\n    <tr>\n      <th>...</th>\n      <td>...</td>\n      <td>...</td>\n      <td>...</td>\n      <td>...</td>\n      <td>...</td>\n      <td>...</td>\n      <td>...</td>\n      <td>...</td>\n      <td>...</td>\n      <td>...</td>\n      <td>...</td>\n      <td>...</td>\n      <td>...</td>\n      <td>...</td>\n      <td>...</td>\n      <td>...</td>\n      <td>...</td>\n      <td>...</td>\n      <td>...</td>\n      <td>...</td>\n      <td>...</td>\n    </tr>\n    <tr>\n      <th>9995</th>\n      <td>0.0</td>\n      <td>0.0</td>\n      <td>0.0</td>\n      <td>0.0</td>\n      <td>0.0</td>\n      <td>0.0</td>\n      <td>0.0</td>\n      <td>0.0</td>\n      <td>0.0</td>\n      <td>0.0</td>\n      <td>...</td>\n      <td>0.0</td>\n      <td>0.0</td>\n      <td>0.0</td>\n      <td>0.0</td>\n      <td>0.0</td>\n      <td>0.0</td>\n      <td>0.0</td>\n      <td>0.0</td>\n      <td>0.0</td>\n      <td>0.0</td>\n    </tr>\n    <tr>\n      <th>9996</th>\n      <td>0.0</td>\n      <td>0.0</td>\n      <td>0.0</td>\n      <td>0.0</td>\n      <td>0.0</td>\n      <td>0.0</td>\n      <td>0.0</td>\n      <td>0.0</td>\n      <td>0.0</td>\n      <td>0.0</td>\n      <td>...</td>\n      <td>0.0</td>\n      <td>0.0</td>\n      <td>0.0</td>\n      <td>0.0</td>\n      <td>0.0</td>\n      <td>0.0</td>\n      <td>0.0</td>\n      <td>0.0</td>\n      <td>0.0</td>\n      <td>0.0</td>\n    </tr>\n    <tr>\n      <th>9997</th>\n      <td>0.0</td>\n      <td>0.0</td>\n      <td>0.0</td>\n      <td>0.0</td>\n      <td>0.0</td>\n      <td>0.0</td>\n      <td>0.0</td>\n      <td>0.0</td>\n      <td>0.0</td>\n      <td>0.0</td>\n      <td>...</td>\n      <td>0.0</td>\n      <td>0.0</td>\n      <td>0.0</td>\n      <td>0.0</td>\n      <td>0.0</td>\n      <td>0.0</td>\n      <td>0.0</td>\n      <td>0.0</td>\n      <td>0.0</td>\n      <td>0.0</td>\n    </tr>\n    <tr>\n      <th>9998</th>\n      <td>0.0</td>\n      <td>0.0</td>\n      <td>0.0</td>\n      <td>0.0</td>\n      <td>0.0</td>\n      <td>0.0</td>\n      <td>0.0</td>\n      <td>0.0</td>\n      <td>0.0</td>\n      <td>0.0</td>\n      <td>...</td>\n      <td>0.0</td>\n      <td>0.0</td>\n      <td>0.0</td>\n      <td>0.0</td>\n      <td>0.0</td>\n      <td>0.0</td>\n      <td>0.0</td>\n      <td>0.0</td>\n      <td>0.0</td>\n      <td>0.0</td>\n    </tr>\n    <tr>\n      <th>9999</th>\n      <td>0.0</td>\n      <td>0.0</td>\n      <td>0.0</td>\n      <td>0.0</td>\n      <td>0.0</td>\n      <td>0.0</td>\n      <td>0.0</td>\n      <td>0.0</td>\n      <td>0.0</td>\n      <td>0.0</td>\n      <td>...</td>\n      <td>0.0</td>\n      <td>0.0</td>\n      <td>0.0</td>\n      <td>0.0</td>\n      <td>0.0</td>\n      <td>0.0</td>\n      <td>0.0</td>\n      <td>0.0</td>\n      <td>0.0</td>\n      <td>0.0</td>\n    </tr>\n  </tbody>\n</table>\n<p>10000 rows × 7381 columns</p>\n</div>",
            "text/plain": "      0     1     2     3     4     5     6     7     8     9     ...  7371  \\\n0      0.0   0.0   0.0   0.0   0.0   0.0   0.0   0.0   0.0   0.0  ...   0.0   \n1      0.0   0.0   0.0   0.0   0.0   0.0   0.0   0.0   0.0   0.0  ...   0.0   \n2      0.0   0.0   0.0   0.0   0.0   0.0   0.0   0.0   0.0   0.0  ...   0.0   \n3      0.0   0.0   0.0   0.0   0.0   0.0   0.0   0.0   0.0   0.0  ...   0.0   \n4      0.0   0.0   0.0   0.0   0.0   0.0   0.0   0.0   0.0   0.0  ...   0.0   \n...    ...   ...   ...   ...   ...   ...   ...   ...   ...   ...  ...   ...   \n9995   0.0   0.0   0.0   0.0   0.0   0.0   0.0   0.0   0.0   0.0  ...   0.0   \n9996   0.0   0.0   0.0   0.0   0.0   0.0   0.0   0.0   0.0   0.0  ...   0.0   \n9997   0.0   0.0   0.0   0.0   0.0   0.0   0.0   0.0   0.0   0.0  ...   0.0   \n9998   0.0   0.0   0.0   0.0   0.0   0.0   0.0   0.0   0.0   0.0  ...   0.0   \n9999   0.0   0.0   0.0   0.0   0.0   0.0   0.0   0.0   0.0   0.0  ...   0.0   \n\n      7372  7373  7374  7375  7376  7377  7378  7379  7380  \n0      0.0   0.0   0.0   0.0   0.0   0.0   0.0   0.0   0.0  \n1      0.0   0.0   0.0   0.0   0.0   0.0   0.0   0.0   0.0  \n2      0.0   0.0   0.0   0.0   0.0   0.0   0.0   0.0   0.0  \n3      0.0   0.0   0.0   0.0   0.0   0.0   0.0   0.0   0.0  \n4      0.0   0.0   0.0   0.0   0.0   0.0   0.0   0.0   0.0  \n...    ...   ...   ...   ...   ...   ...   ...   ...   ...  \n9995   0.0   0.0   0.0   0.0   0.0   0.0   0.0   0.0   0.0  \n9996   0.0   0.0   0.0   0.0   0.0   0.0   0.0   0.0   0.0  \n9997   0.0   0.0   0.0   0.0   0.0   0.0   0.0   0.0   0.0  \n9998   0.0   0.0   0.0   0.0   0.0   0.0   0.0   0.0   0.0  \n9999   0.0   0.0   0.0   0.0   0.0   0.0   0.0   0.0   0.0  \n\n[10000 rows x 7381 columns]"
          },
          "execution_count": 214,
          "metadata": {},
          "output_type": "execute_result"
        }
      ],
      "source": [
        "# from sklearn.preprocessing import OneHotEncoder\n",
        "# onehotencoder = OneHotEncoder() #categorical_features = [0]\n",
        "# data_str_ohe=onehotencoder.fit_transform(data_drop[:10000]).toarray()\n",
        "# pd.DataFrame(data_str_ohe)"
      ]
    },
    {
      "cell_type": "code",
      "execution_count": null,
      "metadata": {
        "id": "JC292cCUj9Ht"
      },
      "outputs": [],
      "source": [
        "# from sklearn.preprocessing import OneHotEncoder\n",
        "# onehotencoder = OneHotEncoder()\n",
        "# data_whole_ohe=onehotencoder.fit_transform(user_list).toarray()"
      ]
    },
    {
      "cell_type": "code",
      "execution_count": null,
      "metadata": {
        "id": "ggVu_dtfj9Hu"
      },
      "outputs": [],
      "source": [
        "# import matplotlib.pyplot as plt\n",
        "# plt.scatter(counts)\n",
        "# # plt.ylim([0,100])\n",
        "# plt.xlim([0,1000])"
      ]
    },
    {
      "cell_type": "code",
      "execution_count": null,
      "metadata": {
        "id": "BzTaKuUyj9Hu"
      },
      "outputs": [],
      "source": [
        "a = []\n",
        "for ii in favorites_df['user_id']:\n",
        "  if ii in test_user_ids['user_id']:\n",
        "    if ii not in a:\n",
        "      a.append(ii)"
      ]
    },
    {
      "cell_type": "code",
      "execution_count": null,
      "metadata": {
        "id": "NkvRV5tvj9Hu",
        "outputId": "950566a2-498c-48bb-e000-356b19c7f5e0"
      },
      "outputs": [
        {
          "data": {
            "text/plain": "(1929, 1039740, 27001)"
          },
          "execution_count": 11,
          "metadata": {},
          "output_type": "execute_result"
        }
      ],
      "source": [
        "len(a), len(favorites_df['user_id']), len(test_user_ids['user_id'])"
      ]
    },
    {
      "cell_type": "code",
      "execution_count": null,
      "metadata": {
        "id": "LsKvXZoej9Hu",
        "outputId": "53bbddb2-f929-4995-b019-e71f77e2d303"
      },
      "outputs": [
        {
          "data": {
            "text/plain": "Index(['id', 'name', 'description', 'user_id', 'servings', 'time',\n       'favorites_count', 'dishes_count', 'text_steps_count',\n       'photo_steps_count', 'published_at'],\n      dtype='object')"
          },
          "execution_count": 12,
          "metadata": {},
          "output_type": "execute_result"
        }
      ],
      "source": [
        "recipes_df.columns"
      ]
    },
    {
      "cell_type": "code",
      "execution_count": null,
      "metadata": {
        "id": "YfHFF4gYj9Hu"
      },
      "outputs": [],
      "source": [
        "NLP_features = recipes_df[['id', 'name', 'description']]"
      ]
    },
    {
      "cell_type": "code",
      "execution_count": null,
      "metadata": {
        "id": "JnxtI2c3j9Hu",
        "outputId": "c52b09b0-ee1f-470f-b4a4-e8e17613ee7d"
      },
      "outputs": [
        {
          "name": "stderr",
          "output_type": "stream",
          "text": [
            "C:\\Users\\Tina\\AppData\\Local\\Temp/ipykernel_20252/2910209143.py:1: SettingWithCopyWarning: \n",
            "A value is trying to be set on a copy of a slice from a DataFrame.\n",
            "Try using .loc[row_indexer,col_indexer] = value instead\n",
            "\n",
            "See the caveats in the documentation: https://pandas.pydata.org/pandas-docs/stable/user_guide/indexing.html#returning-a-view-versus-a-copy\n",
            "  NLP_features['NLPfeatures'] = NLP_features['name'] + NLP_features['description']\n"
          ]
        },
        {
          "data": {
            "text/plain": "0                                                      NaN\n1        初次醃蘿蔔【鬼怪】前陣子電視重播時才迷上「鬼怪」，雖然穿差著看，但老闆娘的「醃蘿蔔」單配酒就...\n2        零基礎免揉-哈拉Challah辮子麵包\\n不需要理論基礎\\n也不需要桌上型攪拌機\\n的五分鐘...\n3                           洋蔥豬扒簡單的兩樣食材，没有花巧的煮法，美味可口，吃得滿足。\n4                                                      NaN\n                               ...                        \n27353           藥膳火鍋鍋底最近細雨綿綿加寒風刺骨，來一道熱呼呼藥膳火鍋，輕輕鬆鬆補補身子驅除寒氣。\n27354                                                  NaN\n27355    皮蛋瘦肉粥（健康）（減肥）（零失敗）蔬菜比例的調配\\n低碳飲食，健康生活\\n冷冷的冬天\\n最...\n27356    簡易櫻花蝦蘿蔔糕因為要煮成蘿蔔糕湯，所以沒有特別加豬肉和香菇。\\n如果要直接煎來吃的可以自己...\n27357    咔拉炸雞大破解市售的脆粉漿如果讓你食不安心，其實也不要慌，因為喀拉脆粉真的沒有你相像中那麽難...\nName: NLPfeatures, Length: 27358, dtype: object"
          },
          "execution_count": 15,
          "metadata": {},
          "output_type": "execute_result"
        }
      ],
      "source": [
        "NLP_features['NLPfeatures'] = NLP_features['name'] + NLP_features['description']\n",
        "NLP_features['NLPfeatures']"
      ]
    },
    {
      "cell_type": "code",
      "execution_count": null,
      "metadata": {
        "id": "onUquYBEj9Hu",
        "outputId": "0331ecd7-dc75-48b8-b698-f604885aff8d"
      },
      "outputs": [
        {
          "name": "stdout",
          "output_type": "stream",
          "text": [
            "Collecting jieba\n",
            "  Downloading jieba-0.42.1.tar.gz (19.2 MB)\n",
            "Building wheels for collected packages: jieba\n",
            "  Building wheel for jieba (setup.py): started\n",
            "  Building wheel for jieba (setup.py): finished with status 'done'\n",
            "  Created wheel for jieba: filename=jieba-0.42.1-py3-none-any.whl size=19314478 sha256=f09885afa81c1ac6de48a6f430d491528b1f3eadb40079655a982d3f88034c0a\n",
            "  Stored in directory: c:\\users\\tina\\appdata\\local\\pip\\cache\\wheels\\ca\\38\\d8\\dfdfe73bec1d12026b30cb7ce8da650f3f0ea2cf155ea018ae\n",
            "Successfully built jieba\n",
            "Installing collected packages: jieba\n",
            "Successfully installed jieba-0.42.1\n",
            "Note: you may need to restart the kernel to use updated packages.\n"
          ]
        }
      ],
      "source": [
        "# pip install jieba"
      ]
    },
    {
      "cell_type": "code",
      "execution_count": null,
      "metadata": {
        "id": "VTutBFhpj9Hu",
        "outputId": "3f7d98bc-f94b-4387-cab3-2f457f8a2d6f"
      },
      "outputs": [
        {
          "name": "stdout",
          "output_type": "stream",
          "text": [
            "初次, 醃蘿, 蔔, 【, 鬼怪, 】, 前陣子, 電視, 重播, 時才, 迷上, 「, 鬼怪, 」, ，, 雖然, 穿, 差著, 看, ，, 但, 老, 闆, 娘, 的, 「, 醃蘿, 蔔, 」, 單配, 酒, 就, 很, 對味, 的, 感覺, ；, 沒, 想到, 在, 愛, 料理, 上, 搜尋, ?, 了, 一下, ，, 還真有, 前輩們, 的, 分享, ，, 又, 剛好, 家裡, 有, 多, 的, 蘿, 蔔, ，, 依, 我, 的, 個性, 就是, 趁新鮮, 快點, 烹調, ，, 免得, 放到, 壞, 掉, 漂出, 異味, 或長, 一堆, 蟲子, ，, 真的, 很, 簡單, ，, 期待, 晚上, 的, 冰鎮, 醃, 蘿, 蔔, 開箱, ?, \n",
            ", \n",
            ", #, 更新, ：, 每次, 將, 菜色, 帶, 回娘家, 煮, ，, 都, 被, 我, 爸, 挑骨頭, ?, ，, 這個, 剛好, 他, 來, 高雄, ，, 沒, 想到, 這讓, 他配, 啤酒, ?, ，, 竟然, 有, 中, 他, 的, 胃, ?\n"
          ]
        }
      ],
      "source": [
        "# encoding=utf-8\n",
        "import jieba\n",
        "\n",
        "# jieba.enable_paddle()# 启动paddle模式。 0.40版之后开始支持，早期版本不支持\n",
        "strs = NLP_features['NLPfeatures'][1]\n",
        "# for str in strs:\n",
        "    # seg_list = jieba.cut(str,use_paddle=True) # 使用paddle模式\n",
        "    # print(\"Paddle Mode: \" + '/'.join(list(seg_list)))\n",
        "seg_list = jieba.cut(NLP_features['NLPfeatures'][1])  # 搜索引擎模式\n",
        "print(\", \".join(seg_list))"
      ]
    },
    {
      "cell_type": "code",
      "execution_count": null,
      "metadata": {
        "id": "VuxOoy0Pj9Hv",
        "outputId": "99914933-c0dd-4a27-d1f3-2157cc16f831"
      },
      "outputs": [
        {
          "data": {
            "text/plain": "('初次醃蘿蔔【鬼怪】前陣子電視重播時才迷上「鬼怪」，雖然穿差著看，但老闆娘的「醃蘿蔔」單配酒就很對味的感覺；沒想到在愛料理上搜尋?了一下，還真有前輩們的分享，又剛好家裡有多的蘿蔔，依我的個性就是趁新鮮快點烹調，免得放到壞掉漂出異味或長一堆蟲子，真的很簡單，期待晚上的冰鎮醃蘿蔔開箱?\\n\\n#更新：每次將菜色帶回娘家煮，都被我爸挑骨頭?，這個剛好他來高雄，沒想到這讓他配啤酒?，竟然有中他的胃?',\n '初次醃蘿蔔【鬼怪】前陣子電視重播時才迷上「鬼怪」，雖然穿差著看，但老闆娘的「醃蘿蔔」單配酒就很對味的感覺；沒想到在愛料理上搜尋了一下，還真有前輩們的分享，又剛好家裡有多的蘿蔔，依我的個性就是趁新鮮快點烹調，免得放到壞掉漂出異味或長一堆蟲子，真的很簡單，期待晚上的冰鎮醃蘿蔔開箱\\n\\n更新：每次將菜色帶回娘家煮，都被我爸挑骨頭，這個剛好他來高雄，沒想到這讓他配啤酒，竟然有中他的胃')"
          },
          "execution_count": 36,
          "metadata": {},
          "output_type": "execute_result"
        }
      ],
      "source": [
        "# import string\n",
        "# NLP_features['NLPfeatures'][1],''.join([i for i in NLP_features['NLPfeatures'][1] if i not in string.punctuation]).lower()"
      ]
    },
    {
      "cell_type": "code",
      "execution_count": null,
      "metadata": {
        "id": "Bv4TW5YJj9Hv"
      },
      "outputs": [],
      "source": [
        "from nltk.corpus import stopwords \n",
        "stop = set(stopwords.words('chinese')) \n",
        "print(stop)"
      ]
    },
    {
      "cell_type": "code",
      "execution_count": null,
      "metadata": {
        "id": "VqhovEjhj9Hv"
      },
      "outputs": [],
      "source": [
        "# import codecs\n",
        "# import jieba\n",
        "# stopwords = codecs.open('stopwords', 'r', 'utf-8').read().split(',')"
      ]
    },
    {
      "cell_type": "code",
      "execution_count": null,
      "metadata": {
        "id": "12rUEVZoj9Hv",
        "outputId": "0d6355bb-1635-4e82-a2d5-88c608f6e761"
      },
      "outputs": [
        {
          "name": "stdout",
          "output_type": "stream",
          "text": [
            "初次, 醃蘿, 蔔, 鬼怪, 前陣子, 電視, 重播, 時才, 迷上, 鬼怪, 雖然, 穿, 差著, 看, 但, 老, 闆, 娘, 的, 醃, 蘿, 蔔, 單配, 酒, 就, 很, 對味, 的, 感覺, 沒, 想到, 在, 愛, 料理, 上, 搜尋了, 一下, 還真有, 前輩們, 的, 分享, 又, 剛好, 家裡, 有, 多, 的, 蘿, 蔔, 依, 我, 的, 個性, 就是, 趁新鮮, 快點, 烹調, 免得, 放到, 壞, 掉, 漂出, 異味, 或長, 一堆, 蟲子, 真的, 很, 簡單, 期待, 晚上, 的, 冰鎮, 醃, 蘿, 蔔, 開箱, 更新, 每次, 將, 菜色, 帶, 回娘家, 煮, 都, 被, 我, 爸, 挑骨頭, 這個, 剛好, 他, 來, 高雄, 沒, 想到, 這讓, 他配, 啤酒, 竟然, 有, 中, 他, 的, 胃\n"
          ]
        }
      ],
      "source": [
        "import re\n",
        "## https://codertw.com/%E7%A8%8B%E5%BC%8F%E8%AA%9E%E8%A8%80/356827/\n",
        "def remove_punctuation(line):\n",
        "  rule = re.compile(\"[^a-zA-Z0-9\\u4e00-\\u9fa5]\")\n",
        "  line = rule.sub('',line)\n",
        "  return line\n",
        "aa = remove_punctuation(NLP_features['NLPfeatures'][1])\n",
        "seg_list = jieba.cut(aa, use_paddle=True, cut_all=False)  # 搜索引擎模式\n",
        "print(\", \".join(seg_list))"
      ]
    },
    {
      "cell_type": "code",
      "execution_count": null,
      "metadata": {
        "id": "IvdoFPb8j9Hv",
        "outputId": "208afaa8-8686-463c-88fd-9df87678c0e7"
      },
      "outputs": [
        {
          "data": {
            "text/plain": "str"
          },
          "execution_count": 28,
          "metadata": {},
          "output_type": "execute_result"
        }
      ],
      "source": [
        "type(NLP_features['NLPfeatures'][1])"
      ]
    },
    {
      "cell_type": "markdown",
      "metadata": {
        "id": "f7eO--k2Vbsy"
      },
      "source": [
        "## 計算推薦"
      ]
    },
    {
      "cell_type": "code",
      "execution_count": null,
      "metadata": {
        "id": "43MtD3r_j9Hv"
      },
      "outputs": [],
      "source": [
        "# def recommender(users=[], k=3):\n",
        "#    training_data = (\n",
        "#      training_data\n",
        "#      .sort_values(\"DATE\", ascending=False)\n",
        "#      .groupby(['reviewerID', 'asin']).head(1)\n",
        "#       )"
      ]
    },
    {
      "cell_type": "code",
      "execution_count": null,
      "metadata": {
        "id": "U_znUsNYj9Hw"
      },
      "outputs": [],
      "source": [
        "from sklearn.neighbors import NearestNeighbors\n",
        "knn = NearestNeighbors(metric='cosine', algorithm='brute')\n",
        "knn.fit(df.values)\n",
        "distances, indices = knn.kneighbors(df.values, n_neighbors=5)"
      ]
    },
    {
      "cell_type": "code",
      "execution_count": null,
      "metadata": {
        "id": "8ZR2g_3sagCJ"
      },
      "outputs": [],
      "source": [
        "def recommender(users=[], k=3):\n",
        "  # 同學的 TODO\n",
        "  # return { user_id_1: [recipe_ids], user_id_2: [recipe_ids] ... }\n",
        "  \n",
        "  # 以下為 Random 推薦實作\n",
        "  return { user: recipes_df['id'].sample(n=k).tolist() for user in users}\n",
        "\n",
        "  # 以下為直接抄答案的實作\n",
        "  # return { user: test_favorites_df[test_favorites_df['user_id'] == user]['recipe_id'].values for user in users}\n",
        "\n",
        "\n",
        "predictions = recommender(test_user_ids['user_id'])"
      ]
    },
    {
      "cell_type": "markdown",
      "metadata": {
        "id": "hS1-8UnlVhJd"
      },
      "source": [
        "## 評估結果"
      ]
    },
    {
      "cell_type": "code",
      "execution_count": null,
      "metadata": {
        "id": "4u0C1Ie5d_WN"
      },
      "outputs": [],
      "source": [
        "def evaluate(real_results={}, predicted_results={}):\n",
        "    '''\n",
        "    * real_results: dict 真實被收藏的食譜資料\n",
        "    * predicted_results: dict 利用訓練資料學習的推薦食譜\n",
        "    * method: str\n",
        "    * score: float\n",
        "    '''\n",
        "    total = 0\n",
        "    for d in predicted_results:\n",
        "          total += len(set(predicted_results[d]) & set(test_favorites_df[test_favorites_df['user_id'] == d]['recipe_id']))\n",
        "\n",
        "    score = total / test_favorites_df.shape[0]\n",
        "    return score\n",
        "\n",
        "# evaluate(test_favorites_df, predictions)"
      ]
    },
    {
      "cell_type": "code",
      "execution_count": null,
      "metadata": {
        "id": "_ptbe8Clj9Hw"
      },
      "outputs": [],
      "source": [
        "evaluate_result = {}\n",
        "n = 0\n",
        "R = [recommender]  #recommender_user, recommender_item, recommender_surprise\n",
        "for recommender in R: #\n",
        "  ratings_by_user = {}\n",
        "  # print(ratings_by_user)\n",
        "  ratings_by_user = recommender(ratings_trainings, users)\n",
        "  evaluate_result[str(n)] = evaluate(ratings_testings_by_user, ratings_by_user)\n",
        "  n += 1\n",
        "result = pd.DataFrame(list(evaluate_result.items()), columns=['recommender_list', 'score'])\n",
        "\n",
        "result\n"
      ]
    }
  ],
  "metadata": {
    "colab": {
      "name": "icook-sample.ipynb",
      "provenance": [],
      "include_colab_link": true
    },
    "kernelspec": {
      "display_name": "Python 3.8.5 64-bit (conda)",
      "name": "python385jvsc74a57bd08fafb0d264de723bc37a22717abeea9c248234b767cf2fe48dc7a148aeb708f7"
    },
    "language_info": {
      "codemirror_mode": {
        "name": "ipython",
        "version": 3
      },
      "file_extension": ".py",
      "mimetype": "text/x-python",
      "name": "python",
      "nbconvert_exporter": "python",
      "pygments_lexer": "ipython3",
      "version": "3.8.5"
    },
    "metadata": {
      "interpreter": {
        "hash": "7db363557ab737ae19f3745816135eaa39a3d2003fff7c0c4f6287051e221b30"
      }
    }
  },
  "nbformat": 4,
  "nbformat_minor": 0
}