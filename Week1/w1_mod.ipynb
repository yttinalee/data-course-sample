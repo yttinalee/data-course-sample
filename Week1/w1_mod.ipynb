{
 "cells": [
  {
   "cell_type": "code",
   "execution_count": 141,
   "metadata": {},
   "outputs": [],
   "source": [
    "import pandas as pd\r\n",
    "import numpy as np"
   ]
  },
  {
   "cell_type": "code",
   "execution_count": 142,
   "metadata": {},
   "outputs": [],
   "source": [
    "import pandas as pd\r\n",
    "import gzip, json\r\n",
    "\r\n",
    "def parse(path):\r\n",
    "    g = gzip.open(path, 'rb')\r\n",
    "    for l in g:\r\n",
    "        yield json.loads(l)\r\n",
    "\r\n",
    "def getDF(path):\r\n",
    "    i = 0\r\n",
    "    df = {}\r\n",
    "    for d in parse(path):\r\n",
    "        df[i] = d\r\n",
    "        i += 1\r\n",
    "    return pd.DataFrame.from_dict(df, orient='index')"
   ]
  },
  {
   "cell_type": "code",
   "execution_count": 143,
   "metadata": {},
   "outputs": [
    {
     "name": "stderr",
     "output_type": "stream",
     "text": [
      "'wget' ���O�����Υ~���R�O�B�i���檺�{���Χ妸�ɡC\n",
      "'wget' ���O�����Υ~���R�O�B�i���檺�{���Χ妸�ɡC\n"
     ]
    }
   ],
   "source": [
    "!wget http://deepyeti.ucsd.edu/jianmo/amazon/categoryFilesSmall/All_Beauty.csv\r\n",
    "!wget http://deepyeti.ucsd.edu/jianmo/amazon/metaFiles2/meta_All_Beauty.json.gz"
   ]
  },
  {
   "cell_type": "code",
   "execution_count": 144,
   "metadata": {},
   "outputs": [],
   "source": [
    "meta = getDF('./meta_All_Beauty.json.gz')\r\n",
    "ratings = pd.read_csv('./All_Beauty.csv', names=['asin', 'reviewerID', 'overall', 'unixReviewTime'], header=None)"
   ]
  },
  {
   "cell_type": "code",
   "execution_count": 145,
   "metadata": {},
   "outputs": [
    {
     "data": {
      "text/html": "<div>\n<style scoped>\n    .dataframe tbody tr th:only-of-type {\n        vertical-align: middle;\n    }\n\n    .dataframe tbody tr th {\n        vertical-align: top;\n    }\n\n    .dataframe thead th {\n        text-align: right;\n    }\n</style>\n<table border=\"1\" class=\"dataframe\">\n  <thead>\n    <tr style=\"text-align: right;\">\n      <th></th>\n      <th>ranking</th>\n      <th>categories</th>\n    </tr>\n  </thead>\n  <tbody>\n    <tr>\n      <th>0</th>\n      <td>2,938,573</td>\n      <td>Beauty &amp; Personal Care (</td>\n    </tr>\n    <tr>\n      <th>1</th>\n      <td>872,854</td>\n      <td>Beauty &amp; Personal Care (</td>\n    </tr>\n    <tr>\n      <th>2</th>\n      <td>956,696</td>\n      <td>Beauty &amp; Personal Care (</td>\n    </tr>\n    <tr>\n      <th>3</th>\n      <td>1,870,258</td>\n      <td>Beauty &amp; Personal Care (</td>\n    </tr>\n    <tr>\n      <th>4</th>\n      <td>67,701</td>\n      <td>Beauty &amp; Personal Care (</td>\n    </tr>\n  </tbody>\n</table>\n</div>",
      "text/plain": "     ranking                categories\n0  2,938,573  Beauty & Personal Care (\n1    872,854  Beauty & Personal Care (\n2    956,696  Beauty & Personal Care (\n3  1,870,258  Beauty & Personal Care (\n4     67,701  Beauty & Personal Care ("
     },
     "execution_count": 145,
     "metadata": {},
     "output_type": "execute_result"
    }
   ],
   "source": [
    "category = meta['rank'].str.split(' in ', expand=True)\r\n",
    "category = category.rename(columns={category.columns[0]:'ranking', category.columns[1]:'categories'})\r\n",
    "category.head()"
   ]
  },
  {
   "cell_type": "code",
   "execution_count": 146,
   "metadata": {},
   "outputs": [],
   "source": [
    "category['ranking'] = category['ranking'].str.replace(',','')\r\n",
    "category['categories'] = category['categories'].str.replace('amp;','')\r\n",
    "category['categories'] = category['categories'].str.replace('\\(', '')\r\n",
    "category['ranking'] = pd.to_numeric(category['ranking'])"
   ]
  },
  {
   "cell_type": "code",
   "execution_count": 147,
   "metadata": {},
   "outputs": [
    {
     "data": {
      "text/plain": "array(['Beauty & Personal Care ', nan, 'Grocery & Gourmet Food ',\n       'Health & Household ', 'Sports & Outdoors ', 'Toys & Games ',\n       'Baby ', 'Clothing, Shoes & Jewelry ', 'Home & Kitchen ',\n       'Automotive ', 'Tools & Home Improvement '], dtype=object)"
     },
     "execution_count": 147,
     "metadata": {},
     "output_type": "execute_result"
    }
   ],
   "source": [
    "category['categories'].unique()"
   ]
  },
  {
   "cell_type": "code",
   "execution_count": 148,
   "metadata": {},
   "outputs": [],
   "source": [
    "meta_use = meta[['asin', 'title', 'also_buy', 'brand', 'rank', 'also_view', 'details', 'price']]"
   ]
  },
  {
   "cell_type": "code",
   "execution_count": 149,
   "metadata": {},
   "outputs": [
    {
     "data": {
      "text/plain": "(32892, 8)"
     },
     "execution_count": 149,
     "metadata": {},
     "output_type": "execute_result"
    }
   ],
   "source": [
    "meta_use.shape"
   ]
  },
  {
   "cell_type": "code",
   "execution_count": 150,
   "metadata": {},
   "outputs": [
    {
     "name": "stderr",
     "output_type": "stream",
     "text": [
      "<ipython-input-150-110db4146380>:1: SettingWithCopyWarning: \n",
      "A value is trying to be set on a copy of a slice from a DataFrame.\n",
      "Try using .loc[row_indexer,col_indexer] = value instead\n",
      "\n",
      "See the caveats in the documentation: https://pandas.pydata.org/pandas-docs/stable/user_guide/indexing.html#returning-a-view-versus-a-copy\n",
      "  meta_use['ranking'] = category['ranking']\n",
      "<ipython-input-150-110db4146380>:2: SettingWithCopyWarning: \n",
      "A value is trying to be set on a copy of a slice from a DataFrame.\n",
      "Try using .loc[row_indexer,col_indexer] = value instead\n",
      "\n",
      "See the caveats in the documentation: https://pandas.pydata.org/pandas-docs/stable/user_guide/indexing.html#returning-a-view-versus-a-copy\n",
      "  meta_use['categories'] = category['categories']\n"
     ]
    }
   ],
   "source": [
    "meta_use['ranking'] = category['ranking']\r\n",
    "meta_use['categories'] = category['categories']"
   ]
  },
  {
   "cell_type": "code",
   "execution_count": 151,
   "metadata": {},
   "outputs": [
    {
     "data": {
      "text/html": "<div>\n<style scoped>\n    .dataframe tbody tr th:only-of-type {\n        vertical-align: middle;\n    }\n\n    .dataframe tbody tr th {\n        vertical-align: top;\n    }\n\n    .dataframe thead th {\n        text-align: right;\n    }\n</style>\n<table border=\"1\" class=\"dataframe\">\n  <thead>\n    <tr style=\"text-align: right;\">\n      <th></th>\n      <th>asin</th>\n      <th>reviewerID</th>\n      <th>overall</th>\n      <th>unixReviewTime</th>\n      <th>DATE</th>\n    </tr>\n  </thead>\n  <tbody>\n    <tr>\n      <th>0</th>\n      <td>0143026860</td>\n      <td>A1V6B6TNIC10QE</td>\n      <td>1.0</td>\n      <td>1424304000</td>\n      <td>2015-02-19</td>\n    </tr>\n    <tr>\n      <th>1</th>\n      <td>0143026860</td>\n      <td>A2F5GHSXFQ0W6J</td>\n      <td>4.0</td>\n      <td>1418860800</td>\n      <td>2014-12-18</td>\n    </tr>\n    <tr>\n      <th>2</th>\n      <td>0143026860</td>\n      <td>A1572GUYS7DGSR</td>\n      <td>4.0</td>\n      <td>1407628800</td>\n      <td>2014-08-10</td>\n    </tr>\n    <tr>\n      <th>3</th>\n      <td>0143026860</td>\n      <td>A1PSGLFK1NSVO</td>\n      <td>5.0</td>\n      <td>1362960000</td>\n      <td>2013-03-11</td>\n    </tr>\n    <tr>\n      <th>4</th>\n      <td>0143026860</td>\n      <td>A6IKXKZMTKGSC</td>\n      <td>5.0</td>\n      <td>1324771200</td>\n      <td>2011-12-25</td>\n    </tr>\n    <tr>\n      <th>...</th>\n      <td>...</td>\n      <td>...</td>\n      <td>...</td>\n      <td>...</td>\n      <td>...</td>\n    </tr>\n    <tr>\n      <th>371340</th>\n      <td>B01HJEGTYK</td>\n      <td>A202DCI7TV1022</td>\n      <td>1.0</td>\n      <td>1500508800</td>\n      <td>2017-07-20</td>\n    </tr>\n    <tr>\n      <th>371341</th>\n      <td>B01HJEGTYK</td>\n      <td>A3FSOR5IJOFIBE</td>\n      <td>5.0</td>\n      <td>1489622400</td>\n      <td>2017-03-16</td>\n    </tr>\n    <tr>\n      <th>371342</th>\n      <td>B01HJEGTYK</td>\n      <td>A1B5DK6CTP2P24</td>\n      <td>5.0</td>\n      <td>1488326400</td>\n      <td>2017-03-01</td>\n    </tr>\n    <tr>\n      <th>371343</th>\n      <td>B01HJEGTYK</td>\n      <td>A23OUYS5IRMJS9</td>\n      <td>2.0</td>\n      <td>1487635200</td>\n      <td>2017-02-21</td>\n    </tr>\n    <tr>\n      <th>371344</th>\n      <td>B01HJEGTYK</td>\n      <td>A24KQ9RVU81L87</td>\n      <td>2.0</td>\n      <td>1481760000</td>\n      <td>2016-12-15</td>\n    </tr>\n  </tbody>\n</table>\n<p>371345 rows × 5 columns</p>\n</div>",
      "text/plain": "              asin      reviewerID  overall  unixReviewTime       DATE\n0       0143026860  A1V6B6TNIC10QE      1.0      1424304000 2015-02-19\n1       0143026860  A2F5GHSXFQ0W6J      4.0      1418860800 2014-12-18\n2       0143026860  A1572GUYS7DGSR      4.0      1407628800 2014-08-10\n3       0143026860   A1PSGLFK1NSVO      5.0      1362960000 2013-03-11\n4       0143026860   A6IKXKZMTKGSC      5.0      1324771200 2011-12-25\n...            ...             ...      ...             ...        ...\n371340  B01HJEGTYK  A202DCI7TV1022      1.0      1500508800 2017-07-20\n371341  B01HJEGTYK  A3FSOR5IJOFIBE      5.0      1489622400 2017-03-16\n371342  B01HJEGTYK  A1B5DK6CTP2P24      5.0      1488326400 2017-03-01\n371343  B01HJEGTYK  A23OUYS5IRMJS9      2.0      1487635200 2017-02-21\n371344  B01HJEGTYK  A24KQ9RVU81L87      2.0      1481760000 2016-12-15\n\n[371345 rows x 5 columns]"
     },
     "execution_count": 151,
     "metadata": {},
     "output_type": "execute_result"
    }
   ],
   "source": [
    "ratings['DATE'] = pd.to_datetime(ratings['unixReviewTime'], unit='s')\r\n",
    "ratings"
   ]
  },
  {
   "cell_type": "code",
   "execution_count": 152,
   "metadata": {},
   "outputs": [],
   "source": [
    "ratings_trainings = ratings[(ratings['DATE'] < '2018-09-01')]\r\n",
    "ratings_testings = ratings[(ratings['DATE'] >= '2018-09-01') &  (ratings['DATE'] <= '2018-09-30')]"
   ]
  },
  {
   "cell_type": "code",
   "execution_count": 153,
   "metadata": {},
   "outputs": [
    {
     "data": {
      "text/plain": "((371345, 5), (370752, 5), (590, 5))"
     },
     "execution_count": 153,
     "metadata": {},
     "output_type": "execute_result"
    }
   ],
   "source": [
    "ratings.shape, ratings_trainings.shape, ratings_testings.shape"
   ]
  },
  {
   "cell_type": "code",
   "execution_count": 154,
   "metadata": {},
   "outputs": [],
   "source": [
    "ratings_testings_by_user = ratings_testings.groupby('reviewerID').agg(list).reset_index()[['reviewerID', 'asin']].to_dict('records')"
   ]
  },
  {
   "cell_type": "code",
   "execution_count": 155,
   "metadata": {},
   "outputs": [],
   "source": [
    "ratings_testings_by_user = { rating['reviewerID']: rating['asin'] for rating in ratings_testings_by_user }\r\n",
    "users = list(ratings_testings_by_user.keys())"
   ]
  },
  {
   "cell_type": "code",
   "execution_count": 156,
   "metadata": {},
   "outputs": [],
   "source": [
    "train_groupby = ratings_trainings.groupby(['asin']).aggregate({'overall':['mean', 'size']})['overall']\r\n",
    "train_groupby = train_groupby.reset_index()\r\n",
    "train_groupby = train_groupby.rename(columns={0:'size'})\r\n",
    "train_groupby = train_groupby.sort_values(['mean'], ascending=False)"
   ]
  },
  {
   "cell_type": "code",
   "execution_count": 157,
   "metadata": {},
   "outputs": [],
   "source": [
    "meta_merge = meta_use.merge(train_groupby, on='asin', how='left')\r\n",
    "meta_merge = meta_merge.sort_values(['mean', 'size'], ascending=False)"
   ]
  },
  {
   "cell_type": "code",
   "execution_count": 158,
   "metadata": {},
   "outputs": [],
   "source": [
    "a = ratings.groupby('asin').mean()['overall']#.sort_values(['mean'], ascending=False)\r\n",
    "b = ratings.groupby('asin').size()\r\n",
    "ratings_rank = pd.DataFrame({'mean': a, 'size': b}).reset_index().sort_values(['mean', 'size'], ascending=False)"
   ]
  },
  {
   "cell_type": "code",
   "execution_count": 159,
   "metadata": {},
   "outputs": [
    {
     "data": {
      "text/html": "<div>\n<style scoped>\n    .dataframe tbody tr th:only-of-type {\n        vertical-align: middle;\n    }\n\n    .dataframe tbody tr th {\n        vertical-align: top;\n    }\n\n    .dataframe thead th {\n        text-align: right;\n    }\n</style>\n<table border=\"1\" class=\"dataframe\">\n  <thead>\n    <tr style=\"text-align: right;\">\n      <th></th>\n      <th>asin</th>\n      <th>mean</th>\n      <th>size</th>\n    </tr>\n  </thead>\n  <tbody>\n    <tr>\n      <th>1246</th>\n      <td>B000KNELAW</td>\n      <td>5.0</td>\n      <td>121</td>\n    </tr>\n    <tr>\n      <th>1007</th>\n      <td>B000GCPXN6</td>\n      <td>5.0</td>\n      <td>37</td>\n    </tr>\n    <tr>\n      <th>603</th>\n      <td>B00079PB6M</td>\n      <td>5.0</td>\n      <td>22</td>\n    </tr>\n    <tr>\n      <th>15166</th>\n      <td>B00MHYLOMA</td>\n      <td>5.0</td>\n      <td>22</td>\n    </tr>\n    <tr>\n      <th>4899</th>\n      <td>B004LTF18M</td>\n      <td>5.0</td>\n      <td>17</td>\n    </tr>\n    <tr>\n      <th>...</th>\n      <td>...</td>\n      <td>...</td>\n      <td>...</td>\n    </tr>\n    <tr>\n      <th>32552</th>\n      <td>B01HHFEA42</td>\n      <td>1.0</td>\n      <td>1</td>\n    </tr>\n    <tr>\n      <th>32568</th>\n      <td>B01HI6M8H6</td>\n      <td>1.0</td>\n      <td>1</td>\n    </tr>\n    <tr>\n      <th>32571</th>\n      <td>B01HIE3EK8</td>\n      <td>1.0</td>\n      <td>1</td>\n    </tr>\n    <tr>\n      <th>32582</th>\n      <td>B01HJ1K3YK</td>\n      <td>1.0</td>\n      <td>1</td>\n    </tr>\n    <tr>\n      <th>32584</th>\n      <td>B01HJASD20</td>\n      <td>1.0</td>\n      <td>1</td>\n    </tr>\n  </tbody>\n</table>\n<p>32586 rows × 3 columns</p>\n</div>",
      "text/plain": "             asin  mean  size\n1246   B000KNELAW   5.0   121\n1007   B000GCPXN6   5.0    37\n603    B00079PB6M   5.0    22\n15166  B00MHYLOMA   5.0    22\n4899   B004LTF18M   5.0    17\n...           ...   ...   ...\n32552  B01HHFEA42   1.0     1\n32568  B01HI6M8H6   1.0     1\n32571  B01HIE3EK8   1.0     1\n32582  B01HJ1K3YK   1.0     1\n32584  B01HJASD20   1.0     1\n\n[32586 rows x 3 columns]"
     },
     "execution_count": 159,
     "metadata": {},
     "output_type": "execute_result"
    }
   ],
   "source": [
    "ratings_rank"
   ]
  },
  {
   "cell_type": "code",
   "execution_count": 160,
   "metadata": {},
   "outputs": [],
   "source": [
    "# top_10_mean_size = meta_merge[:10]"
   ]
  },
  {
   "cell_type": "code",
   "execution_count": 161,
   "metadata": {},
   "outputs": [],
   "source": [
    "def recommender(training_data, users=[], k=10):\r\n",
    "    '''\r\n",
    "    * training_data: dataframe 輸入的訓練資料集（2018-09-01 以前資料）\r\n",
    "    * users: [] 需要被推薦的使用者\r\n",
    "    * k: int 每個使用者需要推薦的商品數\r\n",
    "    * recommendations: dict\r\n",
    "      {\r\n",
    "          使用者一： [推薦商品一, 推薦商品二, ...],\r\n",
    "          使用者二： [...], ...\r\n",
    "      }\r\n",
    "    '''\r\n",
    "    recommendations = {}\r\n",
    "    top_10 = training_data.groupby('asin').size().sort_values(ascending=False).index.to_list()[:10]\r\n",
    "    recommendations = {user: top_10 for user in users}\r\n",
    "    '''\r\n",
    "    Your Code\r\n",
    "    '''\r\n",
    "    return recommendations\r\n"
   ]
  },
  {
   "cell_type": "code",
   "execution_count": 163,
   "metadata": {},
   "outputs": [],
   "source": [
    "def recommender1(training_data, users=[], k=10):\r\n",
    "  '''\r\n",
    "  * training_data: dataframe 輸入的訓練資料集（2018-09-01 以前資料）\r\n",
    "  * users: [] 需要被推薦的使用者\r\n",
    "  * k: int 每個使用者需要推薦的商品數\r\n",
    "  * recommendations: dict\r\n",
    "    {\r\n",
    "        使用者一： [推薦商品一, 推薦商品二, ...],\r\n",
    "        使用者二： [...], ...\r\n",
    "    }\r\n",
    "  '''\r\n",
    "  recommendations = {}\r\n",
    "  n=0\r\n",
    "  for ii in users:\r\n",
    "    user = ratings[ratings['reviewerID'] == str(ii)]\r\n",
    "    prod = user.groupby('asin').aggregate({'overall':['mean', 'size']})['overall'].sort_values(['mean']).reset_index()\r\n",
    "    cates = pd.DataFrame(columns={'category', 'asin'})\r\n",
    "    cates['asin'] = prod['asin']\r\n",
    "    if len(prod) > 0:\r\n",
    "      for jj in range(0, len(prod)):\r\n",
    "        if len(meta_merge[meta_merge['asin'] == prod['asin'].unique()[jj]]) > 0:\r\n",
    "          cates['category'][jj] = meta_merge[meta_merge['asin'] == prod['asin'].unique()[jj]]['categories'].iloc[0]\r\n",
    "          group = cates.groupby(by=['asin']).count()\r\n",
    "      num = int(np.ceil(k/len(cates)))\r\n",
    "      recommend_cates = []\r\n",
    "      for kk in range(0, len(cates['category'].unique())):\r\n",
    "        if len(cates[cates['category'] == cates['category'].unique()[kk]]) >= num:\r\n",
    "          [recommend_cates.append(meta_merge[meta_merge['categories'] == cates['category'].unique()[kk]].iloc[gg]['asin']) for gg in range(0, num)]\r\n",
    "        else:\r\n",
    "          [recommend_cates.append(meta_merge[meta_merge['categories'] == cates['category'].unique()[kk]].iloc[gg]['asin']) for gg in range(0, len(cates[cates['category'] == cates['category'].unique()[kk]]))]\r\n",
    "    \r\n",
    "    top_10 = training_data.groupby('asin').size().sort_values(ascending=False).index.to_list()[:10]\r\n",
    "    if len(recommend_cates) <= 10:\r\n",
    "      [recommend_cates.append(list(ratings_rank['asin'])[gg]) for gg in range(0, 10-len(recommend_cates))]\r\n",
    "    recommendations = {ii : recommend_cates for ii in users}\r\n",
    "  return recommendations\r\n",
    "# ratings_by_user = recommender(ratings_trainings, users)\r\n",
    "# ratings_by_user\r\n"
   ]
  },
  {
   "cell_type": "code",
   "execution_count": 164,
   "metadata": {},
   "outputs": [],
   "source": [
    "def recommender2(training_data, users=[], k=10):\r\n",
    "  '''\r\n",
    "  * training_data: dataframe 輸入的訓練資料集（2018-09-01 以前資料）\r\n",
    "  * users: [] 需要被推薦的使用者\r\n",
    "  * k: int 每個使用者需要推薦的商品數\r\n",
    "  * recommendations: dict\r\n",
    "    {\r\n",
    "        使用者一： [推薦商品一, 推薦商品二, ...],\r\n",
    "        使用者二： [...], ...\r\n",
    "    }\r\n",
    "  '''\r\n",
    "  recommendations = {}\r\n",
    "  n=0\r\n",
    "  for ii in users:\r\n",
    "    user = ratings[ratings['reviewerID'] == str(ii)]\r\n",
    "    prod = user.groupby('asin').aggregate({'overall':['mean', 'size']})['overall'].sort_values(['mean']).reset_index()\r\n",
    "    cates = pd.DataFrame(columns={'category', 'asin'})\r\n",
    "    cates['asin'] = prod['asin']\r\n",
    "    if len(prod) > 0:\r\n",
    "      for jj in range(0, len(prod)):\r\n",
    "        if len(meta_merge[meta_merge['asin'] == prod['asin'].unique()[jj]]) > 0:\r\n",
    "          cates['category'][jj] = meta_merge[meta_merge['asin'] == prod['asin'].unique()[jj]]['categories'].iloc[0]\r\n",
    "          group = cates.groupby(by=['asin']).count()\r\n",
    "      num = int(np.ceil(k/len(cates)))\r\n",
    "      recommend_cates = []\r\n",
    "      for kk in range(0, len(cates['category'].unique())):\r\n",
    "        if len(cates[cates['category'] == cates['category'].unique()[kk]]) >= num:\r\n",
    "          [recommend_cates.append(meta_merge[meta_merge['categories'] == cates['category'].unique()[kk]].iloc[gg]['asin']) for gg in range(0, num)]\r\n",
    "        else:\r\n",
    "          [recommend_cates.append(meta_merge[meta_merge['categories'] == cates['category'].unique()[kk]].iloc[gg]['asin']) for gg in range(0, len(cates[cates['category'] == cates['category'].unique()[kk]]))]\r\n",
    "    \r\n",
    "    top_10 = training_data.groupby('asin').size().sort_values(ascending=False).index.to_list()[:10]\r\n",
    "    if len(recommend_cates) <= 10:\r\n",
    "      [recommend_cates.append(top_10[gg]) for gg in range(0, 10-len(recommend_cates))]\r\n",
    "    recommendations = {ii : recommend_cates for ii in users}\r\n",
    "  return recommendations\r\n",
    "# ratings_by_user = recommender(ratings_trainings, users)\r\n",
    "# ratings_by_user\r\n"
   ]
  },
  {
   "cell_type": "code",
   "execution_count": 165,
   "metadata": {},
   "outputs": [],
   "source": [
    "def recommender3(training_data, users=[], k=10):\r\n",
    "  '''\r\n",
    "  * training_data: dataframe 輸入的訓練資料集（2018-09-01 以前資料）\r\n",
    "  * users: [] 需要被推薦的使用者\r\n",
    "  * k: int 每個使用者需要推薦的商品數\r\n",
    "  * recommendations: dict\r\n",
    "    {\r\n",
    "        使用者一： [推薦商品一, 推薦商品二, ...],\r\n",
    "        使用者二： [...], ...\r\n",
    "    }\r\n",
    "  '''\r\n",
    "  training_data = training_data[(ratings['DATE'] >= '2018-06-30') &  (ratings['DATE'] <= '2018-09-01')]\r\n",
    "  recommendations = {}\r\n",
    "  n=0\r\n",
    "  for ii in users:\r\n",
    "    user = ratings[ratings['reviewerID'] == str(ii)]\r\n",
    "    prod = user.groupby('asin').aggregate({'overall':['mean', 'size']})['overall'].sort_values(['mean']).reset_index()\r\n",
    "    cates = pd.DataFrame(columns={'category', 'asin'})\r\n",
    "    cates['asin'] = prod['asin']\r\n",
    "    if len(prod) > 0:\r\n",
    "      for jj in range(0, len(prod)):\r\n",
    "        if len(meta_merge[meta_merge['asin'] == prod['asin'].unique()[jj]]) > 0:\r\n",
    "          cates['category'][jj] = meta_merge[meta_merge['asin'] == prod['asin'].unique()[jj]]['categories'].iloc[0]\r\n",
    "          group = cates.groupby(by=['asin']).count()\r\n",
    "      num = int(np.ceil(k/len(cates)))\r\n",
    "      recommend_cates = []\r\n",
    "      for kk in range(0, len(cates['category'].unique())):\r\n",
    "        if len(cates[cates['category'] == cates['category'].unique()[kk]]) >= num:\r\n",
    "          [recommend_cates.append(meta_merge[meta_merge['categories'] == cates['category'].unique()[kk]].iloc[gg]['asin']) for gg in range(0, num)]\r\n",
    "        else:\r\n",
    "          [recommend_cates.append(meta_merge[meta_merge['categories'] == cates['category'].unique()[kk]].iloc[gg]['asin']) for gg in range(0, len(cates[cates['category'] == cates['category'].unique()[kk]]))]\r\n",
    "    \r\n",
    "    top_10 = training_data.groupby('asin').size().sort_values(ascending=False).index.to_list()[:10]\r\n",
    "    if len(recommend_cates) <= 10:\r\n",
    "      [recommend_cates.append(top_10[gg]) for gg in range(0, 10-len(recommend_cates))]\r\n",
    "    recommendations = {ii : recommend_cates for ii in users}\r\n",
    "  return recommendations\r\n",
    "# ratings_by_user = recommender(ratings_trainings, users)\r\n",
    "# ratings_by_user\r\n",
    "\r\n"
   ]
  },
  {
   "cell_type": "code",
   "execution_count": 166,
   "metadata": {},
   "outputs": [],
   "source": [
    "def evaluate(ratings_testings_by_user={}, ratings_by_user={}, method=None):\r\n",
    "    '''\r\n",
    "    * ratings_testings_by_user: dict 真實被購買的商品資料（2018-09-01 以後資料）\r\n",
    "    * ratings_by_user: dict 利用訓練資料學習的推薦商品\r\n",
    "    * method: str\r\n",
    "    * score: float\r\n",
    "    '''\r\n",
    "    total = 0\r\n",
    "    for d in ratings_testings_by_user:\r\n",
    "        if d in ratings_by_user:\r\n",
    "            total += len(set(ratings_by_user[d]) & set(ratings_testings_by_user[d]))\r\n",
    "    score = total / len(ratings_testings)\r\n",
    "    return score\r\n",
    "# evaluate(ratings_testings_by_user, ratings_by_user)"
   ]
  },
  {
   "cell_type": "code",
   "execution_count": 167,
   "metadata": {},
   "outputs": [
    {
     "name": "stderr",
     "output_type": "stream",
     "text": [
      "<ipython-input-165-7c82c756701a>:12: UserWarning: Boolean Series key will be reindexed to match DataFrame index.\n",
      "  training_data = training_data[(ratings['DATE'] >= '2018-06-30') &  (ratings['DATE'] <= '2018-09-01')]\n"
     ]
    },
    {
     "data": {
      "text/html": "<div>\n<style scoped>\n    .dataframe tbody tr th:only-of-type {\n        vertical-align: middle;\n    }\n\n    .dataframe tbody tr th {\n        vertical-align: top;\n    }\n\n    .dataframe thead th {\n        text-align: right;\n    }\n</style>\n<table border=\"1\" class=\"dataframe\">\n  <thead>\n    <tr style=\"text-align: right;\">\n      <th></th>\n      <th>recommender_list</th>\n      <th>score</th>\n    </tr>\n  </thead>\n  <tbody>\n    <tr>\n      <th>0</th>\n      <td>0</td>\n      <td>0.083051</td>\n    </tr>\n    <tr>\n      <th>1</th>\n      <td>1</td>\n      <td>0.000000</td>\n    </tr>\n    <tr>\n      <th>2</th>\n      <td>2</td>\n      <td>0.083051</td>\n    </tr>\n    <tr>\n      <th>3</th>\n      <td>3</td>\n      <td>0.135593</td>\n    </tr>\n  </tbody>\n</table>\n</div>",
      "text/plain": "  recommender_list     score\n0                0  0.083051\n1                1  0.000000\n2                2  0.083051\n3                3  0.135593"
     },
     "execution_count": 167,
     "metadata": {},
     "output_type": "execute_result"
    }
   ],
   "source": [
    "evaluate_result = {}\r\n",
    "n = 0\r\n",
    "for recommender in [recommender, recommender1, recommender2, recommender3]:\r\n",
    "  ratings_by_user = {}\r\n",
    "  # print(ratings_by_user)\r\n",
    "  ratings_by_user = recommender(ratings_trainings, users)\r\n",
    "  # print(f'{ii}\\n',ratings_by_user['A142I22FIC8MZK'])\r\n",
    "  evaluate_result[str(n)] = evaluate(ratings_testings_by_user, ratings_by_user)\r\n",
    "  n += 1\r\n",
    "result = pd.DataFrame(list(evaluate_result.items()), columns=['recommender_list', 'score'])\r\n",
    "result\r\n"
   ]
  }
 ],
 "metadata": {
  "kernelspec": {
   "display_name": "Python 3.8.5 64-bit (conda)",
   "name": "python385jvsc74a57bd0b3ba2566441a7c06988d0923437866b63cedc61552a5af99d1f4fb67d367b25f"
  },
  "language_info": {
   "codemirror_mode": {
    "name": "ipython",
    "version": 3
   },
   "file_extension": ".py",
   "mimetype": "text/x-python",
   "name": "python",
   "nbconvert_exporter": "python",
   "pygments_lexer": "ipython3",
   "version": "3.8.5"
  },
  "orig_nbformat": 2
 },
 "nbformat": 4,
 "nbformat_minor": 2
}
