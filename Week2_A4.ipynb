{
  "cells": [
    {
      "cell_type": "markdown",
      "metadata": {
        "id": "view-in-github",
        "colab_type": "text"
      },
      "source": [
        "<a href=\"https://colab.research.google.com/github/yttinalee/data-course-sample/blob/main/Week2_A4.ipynb\" target=\"_parent\"><img src=\"https://colab.research.google.com/assets/colab-badge.svg\" alt=\"Open In Colab\"/></a>"
      ]
    },
    {
      "cell_type": "code",
      "execution_count": null,
      "metadata": {
        "id": "CSH9FKiUcjQg"
      },
      "outputs": [],
      "source": [
        "import pandas as pd\n",
        "import gzip, json\n",
        "\n",
        "def parse(path):\n",
        "    g = gzip.open(path, 'rb')\n",
        "    for l in g:\n",
        "        yield json.loads(l)\n",
        "\n",
        "def getDF(path):\n",
        "    i = 0\n",
        "    df = {}\n",
        "    for d in parse(path):\n",
        "        df[i] = d\n",
        "        i += 1\n",
        "    return pd.DataFrame.from_dict(df, orient='index')"
      ]
    },
    {
      "cell_type": "code",
      "execution_count": null,
      "metadata": {
        "colab": {
          "base_uri": "https://localhost:8080/"
        },
        "id": "yNR6-mX6dNzq",
        "outputId": "4a088750-1be3-4054-84c7-33f53569039a"
      },
      "outputs": [
        {
          "name": "stderr",
          "output_type": "stream",
          "text": [
            "'wget' ���O�����Υ~���R�O�B�i���檺�{���Χ妸�ɡC\n",
            "'wget' ���O�����Υ~���R�O�B�i���檺�{���Χ妸�ɡC\n"
          ]
        }
      ],
      "source": [
        "!wget http://deepyeti.ucsd.edu/jianmo/amazon/categoryFilesSmall/All_Beauty.csv\n",
        "!wget http://deepyeti.ucsd.edu/jianmo/amazon/metaFiles2/meta_All_Beauty.json.gz"
      ]
    },
    {
      "cell_type": "code",
      "execution_count": null,
      "metadata": {
        "id": "vtu8hVeVeEME"
      },
      "outputs": [],
      "source": [
        "metadata = getDF('/content/meta_All_Beauty.json.gz')\n",
        "ratings = pd.read_csv('/content/All_Beauty.csv', names=['asin', 'reviewerID', 'overall', 'unixReviewTime'], header=None)"
      ]
    },
    {
      "cell_type": "code",
      "execution_count": null,
      "metadata": {
        "colab": {
          "base_uri": "https://localhost:8080/",
          "height": 669
        },
        "id": "SBGhUUsZfiRU",
        "outputId": "2a8c3d18-5160-47e0-f358-a36e2f3715c4"
      },
      "outputs": [
        {
          "data": {
            "text/html": "<div>\n<style scoped>\n    .dataframe tbody tr th:only-of-type {\n        vertical-align: middle;\n    }\n\n    .dataframe tbody tr th {\n        vertical-align: top;\n    }\n\n    .dataframe thead th {\n        text-align: right;\n    }\n</style>\n<table border=\"1\" class=\"dataframe\">\n  <thead>\n    <tr style=\"text-align: right;\">\n      <th></th>\n      <th>category</th>\n      <th>tech1</th>\n      <th>description</th>\n      <th>fit</th>\n      <th>title</th>\n      <th>also_buy</th>\n      <th>tech2</th>\n      <th>brand</th>\n      <th>feature</th>\n      <th>rank</th>\n      <th>also_view</th>\n      <th>details</th>\n      <th>main_cat</th>\n      <th>similar_item</th>\n      <th>date</th>\n      <th>price</th>\n      <th>asin</th>\n      <th>imageURL</th>\n      <th>imageURLHighRes</th>\n    </tr>\n  </thead>\n  <tbody>\n    <tr>\n      <th>0</th>\n      <td>[]</td>\n      <td></td>\n      <td>[Loud 'N Clear Personal Sound Amplifier allows...</td>\n      <td></td>\n      <td>Loud 'N Clear&amp;trade; Personal Sound Amplifier</td>\n      <td>[]</td>\n      <td></td>\n      <td>idea village</td>\n      <td>[]</td>\n      <td>2,938,573 in Beauty &amp; Personal Care (</td>\n      <td>[]</td>\n      <td>{'ASIN: ': '6546546450'}</td>\n      <td>All Beauty</td>\n      <td></td>\n      <td></td>\n      <td></td>\n      <td>6546546450</td>\n      <td>[]</td>\n      <td>[]</td>\n    </tr>\n    <tr>\n      <th>1</th>\n      <td>[]</td>\n      <td></td>\n      <td>[No7 Lift &amp; Luminate Triple Action Serum 50ml ...</td>\n      <td></td>\n      <td>No7 Lift &amp;amp; Luminate Triple Action Serum 50...</td>\n      <td>[B01E7LCSL6, B008X5RVME]</td>\n      <td></td>\n      <td></td>\n      <td>[]</td>\n      <td>872,854 in Beauty &amp; Personal Care (</td>\n      <td>[]</td>\n      <td>{'Shipping Weight:': '0.3 ounces (', 'ASIN: ':...</td>\n      <td>All Beauty</td>\n      <td>class=\"a-bordered a-horizontal-stripes  a-spa...</td>\n      <td></td>\n      <td>$44.99</td>\n      <td>7178680776</td>\n      <td>[]</td>\n      <td>[]</td>\n    </tr>\n    <tr>\n      <th>2</th>\n      <td>[]</td>\n      <td></td>\n      <td>[No7 Stay Perfect Foundation now stays perfect...</td>\n      <td></td>\n      <td>No7 Stay Perfect Foundation Cool Vanilla by No7</td>\n      <td>[]</td>\n      <td></td>\n      <td>No7</td>\n      <td>[]</td>\n      <td>956,696 in Beauty &amp; Personal Care (</td>\n      <td>[B01B8BR0O8, B01B8BR0NO, B014MHXXM8]</td>\n      <td>{'Shipping Weight:': '3.5 ounces (', 'ASIN: ':...</td>\n      <td>All Beauty</td>\n      <td></td>\n      <td></td>\n      <td>$28.76</td>\n      <td>7250468162</td>\n      <td>[]</td>\n      <td>[]</td>\n    </tr>\n    <tr>\n      <th>3</th>\n      <td>[]</td>\n      <td></td>\n      <td>[]</td>\n      <td></td>\n      <td>Wella Koleston Perfect Hair Colour 44/44 Mediu...</td>\n      <td>[B0041PBXX8]</td>\n      <td></td>\n      <td></td>\n      <td>[]</td>\n      <td>1,870,258 in Beauty &amp; Personal Care (</td>\n      <td>[]</td>\n      <td>{'\n    Item Weight: \n    ': '1.76 ounces', 'Sh...</td>\n      <td>All Beauty</td>\n      <td></td>\n      <td></td>\n      <td></td>\n      <td>7367905066</td>\n      <td>[https://images-na.ssl-images-amazon.com/image...</td>\n      <td>[https://images-na.ssl-images-amazon.com/image...</td>\n    </tr>\n    <tr>\n      <th>4</th>\n      <td>[]</td>\n      <td></td>\n      <td>[Lacto Calamine Skin Balance Daily Nourishing ...</td>\n      <td></td>\n      <td>Lacto Calamine Skin Balance Oil control 120 ml...</td>\n      <td>[]</td>\n      <td></td>\n      <td>Pirmal Healthcare</td>\n      <td>[]</td>\n      <td>67,701 in Beauty &amp; Personal Care (</td>\n      <td>[3254895630, B007VL1D9S, B00EH9A0RI, B0773MBG4...</td>\n      <td>{'Shipping Weight:': '12 ounces (', 'ASIN: ': ...</td>\n      <td>All Beauty</td>\n      <td></td>\n      <td></td>\n      <td>$12.15</td>\n      <td>7414204790</td>\n      <td>[https://images-na.ssl-images-amazon.com/image...</td>\n      <td>[https://images-na.ssl-images-amazon.com/image...</td>\n    </tr>\n  </tbody>\n</table>\n</div>",
            "text/plain": "  category tech1                                        description fit  \\\n0       []        [Loud 'N Clear Personal Sound Amplifier allows...       \n1       []        [No7 Lift & Luminate Triple Action Serum 50ml ...       \n2       []        [No7 Stay Perfect Foundation now stays perfect...       \n3       []                                                       []       \n4       []        [Lacto Calamine Skin Balance Daily Nourishing ...       \n\n                                               title  \\\n0      Loud 'N Clear&trade; Personal Sound Amplifier   \n1  No7 Lift &amp; Luminate Triple Action Serum 50...   \n2    No7 Stay Perfect Foundation Cool Vanilla by No7   \n3  Wella Koleston Perfect Hair Colour 44/44 Mediu...   \n4  Lacto Calamine Skin Balance Oil control 120 ml...   \n\n                   also_buy tech2              brand feature  \\\n0                        []             idea village      []   \n1  [B01E7LCSL6, B008X5RVME]                               []   \n2                        []                      No7      []   \n3              [B0041PBXX8]                               []   \n4                        []        Pirmal Healthcare      []   \n\n                                    rank  \\\n0  2,938,573 in Beauty & Personal Care (   \n1    872,854 in Beauty & Personal Care (   \n2    956,696 in Beauty & Personal Care (   \n3  1,870,258 in Beauty & Personal Care (   \n4     67,701 in Beauty & Personal Care (   \n\n                                           also_view  \\\n0                                                 []   \n1                                                 []   \n2               [B01B8BR0O8, B01B8BR0NO, B014MHXXM8]   \n3                                                 []   \n4  [3254895630, B007VL1D9S, B00EH9A0RI, B0773MBG4...   \n\n                                             details    main_cat  \\\n0                           {'ASIN: ': '6546546450'}  All Beauty   \n1  {'Shipping Weight:': '0.3 ounces (', 'ASIN: ':...  All Beauty   \n2  {'Shipping Weight:': '3.5 ounces (', 'ASIN: ':...  All Beauty   \n3  {'\n    Item Weight: \n    ': '1.76 ounces', 'Sh...  All Beauty   \n4  {'Shipping Weight:': '12 ounces (', 'ASIN: ': ...  All Beauty   \n\n                                        similar_item date   price        asin  \\\n0                                                                  6546546450   \n1   class=\"a-bordered a-horizontal-stripes  a-spa...       $44.99  7178680776   \n2                                                          $28.76  7250468162   \n3                                                                  7367905066   \n4                                                          $12.15  7414204790   \n\n                                            imageURL  \\\n0                                                 []   \n1                                                 []   \n2                                                 []   \n3  [https://images-na.ssl-images-amazon.com/image...   \n4  [https://images-na.ssl-images-amazon.com/image...   \n\n                                     imageURLHighRes  \n0                                                 []  \n1                                                 []  \n2                                                 []  \n3  [https://images-na.ssl-images-amazon.com/image...  \n4  [https://images-na.ssl-images-amazon.com/image...  "
          },
          "execution_count": 192,
          "metadata": {},
          "output_type": "execute_result"
        }
      ],
      "source": [
        "metadata.head()"
      ]
    },
    {
      "cell_type": "code",
      "execution_count": null,
      "metadata": {
        "colab": {
          "base_uri": "https://localhost:8080/"
        },
        "id": "mZw8L0u4iVhf",
        "outputId": "3b69978d-5fca-4f51-e295-13b95b3e6657"
      },
      "outputs": [
        {
          "data": {
            "text/plain": "array([\"Loud 'N Clear&trade; Personal Sound Amplifier\",\n       'No7 Lift &amp; Luminate Triple Action Serum 50ml by Boots',\n       'No7 Stay Perfect Foundation Cool Vanilla by No7', ...,\n       'NOW D-Mannose 500 mg - 120 Veg Capsules (Pack of 3)',\n       '12 White Feather Shuttlecocks Birdies Badminton Training Match',\n       'FESHFEN Scrunchy Scrunchies Synthetic Hair Bun Updo Hair Pieces Ponytail Hair Extensions Wavy Curly Messy Hair Bun Extensions Donut Hair Chignons Piece Wig'],\n      dtype=object)"
          },
          "execution_count": 193,
          "metadata": {},
          "output_type": "execute_result"
        }
      ],
      "source": [
        "metadata['title'].unique()"
      ]
    },
    {
      "cell_type": "code",
      "execution_count": null,
      "metadata": {
        "id": "GbJYOBubvdSg"
      },
      "outputs": [],
      "source": [
        "ratings['DATE'] = pd.to_datetime(ratings['unixReviewTime'], unit='s')"
      ]
    },
    {
      "cell_type": "code",
      "execution_count": null,
      "metadata": {
        "id": "Pnu_i1bIvh0J"
      },
      "outputs": [],
      "source": [
        "ratings_trainings = ratings[\n",
        "    (ratings['DATE'] < '2018-09-01')\n",
        "]\n",
        "ratings_testings = ratings[\n",
        "    (ratings['DATE'] >= '2018-09-01') & \n",
        "    (ratings['DATE'] <= '2018-09-30')\n",
        "]\n",
        "ratings_trainings_by_user = ratings_testings.groupby('reviewerID').agg(list).reset_index()[['reviewerID', 'asin']].to_dict('records')\n",
        "ratings_trainings_by_user = { rating['reviewerID']: rating['asin'] for rating in ratings_trainings_by_user }\n",
        "training_users = list(ratings_trainings_by_user.keys())\n",
        "ratings_testings_by_user = ratings_testings.groupby('reviewerID').agg(list).reset_index()[['reviewerID', 'asin']].to_dict('records')\n",
        "ratings_testings_by_user = { rating['reviewerID']: rating['asin'] for rating in ratings_testings_by_user }\n",
        "users = list(ratings_testings_by_user.keys())"
      ]
    },
    {
      "cell_type": "code",
      "execution_count": null,
      "metadata": {
        "id": "y9NlG64CqCjD",
        "outputId": "170187eb-a6f5-4688-913e-927fa7bb00ef"
      },
      "outputs": [
        {
          "data": {
            "text/plain": "584"
          },
          "execution_count": 196,
          "metadata": {},
          "output_type": "execute_result"
        }
      ],
      "source": [
        "# # training data中的user有多少也出現在testint data\n",
        "dic_user = []\n",
        "for ii in training_users:\n",
        "  if ii in users:\n",
        "    dic_user.append(ii)\n",
        "len(dic_user)"
      ]
    },
    {
      "cell_type": "code",
      "execution_count": null,
      "metadata": {
        "id": "H0hnYAZjqCjE"
      },
      "outputs": [],
      "source": [
        "ratings_trainings_by_asin = ratings_testings.groupby('asin').agg(list).reset_index()['asin']\n",
        "ratings_testings_by_asin = ratings_testings.groupby('asin').agg(list).reset_index()['asin']"
      ]
    },
    {
      "cell_type": "code",
      "execution_count": null,
      "metadata": {
        "id": "4naNbP_YqCjE",
        "outputId": "45de6496-f692-495d-c26b-bc68f75e025e"
      },
      "outputs": [
        {
          "data": {
            "text/plain": "0"
          },
          "execution_count": 198,
          "metadata": {},
          "output_type": "execute_result"
        }
      ],
      "source": [
        "# # training data中的asin有多少也出現在testint data\n",
        "dic = []\n",
        "for ii in ratings_trainings_by_asin:\n",
        "  if ii in ratings_testings_by_asin:\n",
        "    dic.append(ii)\n",
        "len(dic)"
      ]
    },
    {
      "cell_type": "code",
      "execution_count": null,
      "metadata": {
        "id": "w6CILq_cqCjF"
      },
      "outputs": [],
      "source": [
        "category = metadata['rank'].str.split(' in ', expand=True)\n",
        "category = category.rename(columns={category.columns[0]:'ranking', category.columns[1]:'categories'})\n",
        "# category.head()"
      ]
    },
    {
      "cell_type": "code",
      "execution_count": null,
      "metadata": {
        "id": "kf5uPi19qCjF"
      },
      "outputs": [],
      "source": [
        "category['ranking'] = category['ranking'].str.replace(',','')\n",
        "category['categories'] = category['categories'].str.replace('amp;','')\n",
        "category['categories'] = category['categories'].str.replace('\\(', '')\n",
        "category['ranking'] = pd.to_numeric(category['ranking'])"
      ]
    },
    {
      "cell_type": "code",
      "execution_count": null,
      "metadata": {
        "id": "G9JYiH6MqCjF",
        "outputId": "bd42de78-8866-4f60-9cc1-f2fd4e8f8c7f"
      },
      "outputs": [
        {
          "data": {
            "text/html": "<div>\n<style scoped>\n    .dataframe tbody tr th:only-of-type {\n        vertical-align: middle;\n    }\n\n    .dataframe tbody tr th {\n        vertical-align: top;\n    }\n\n    .dataframe thead th {\n        text-align: right;\n    }\n</style>\n<table border=\"1\" class=\"dataframe\">\n  <thead>\n    <tr style=\"text-align: right;\">\n      <th></th>\n      <th>ranking</th>\n    </tr>\n    <tr>\n      <th>categories</th>\n      <th></th>\n    </tr>\n  </thead>\n  <tbody>\n    <tr>\n      <th>Automotive</th>\n      <td>1</td>\n    </tr>\n    <tr>\n      <th>Baby</th>\n      <td>2</td>\n    </tr>\n    <tr>\n      <th>Beauty &amp; Personal Care</th>\n      <td>32380</td>\n    </tr>\n    <tr>\n      <th>Clothing, Shoes &amp; Jewelry</th>\n      <td>2</td>\n    </tr>\n    <tr>\n      <th>Grocery &amp; Gourmet Food</th>\n      <td>38</td>\n    </tr>\n    <tr>\n      <th>Health &amp; Household</th>\n      <td>21</td>\n    </tr>\n    <tr>\n      <th>Home &amp; Kitchen</th>\n      <td>1</td>\n    </tr>\n    <tr>\n      <th>Sports &amp; Outdoors</th>\n      <td>3</td>\n    </tr>\n    <tr>\n      <th>Tools &amp; Home Improvement</th>\n      <td>1</td>\n    </tr>\n    <tr>\n      <th>Toys &amp; Games</th>\n      <td>3</td>\n    </tr>\n  </tbody>\n</table>\n</div>",
            "text/plain": "                            ranking\ncategories                         \nAutomotive                        1\nBaby                              2\nBeauty & Personal Care        32380\nClothing, Shoes & Jewelry         2\nGrocery & Gourmet Food           38\nHealth & Household               21\nHome & Kitchen                    1\nSports & Outdoors                 3\nTools & Home Improvement          1\nToys & Games                      3"
          },
          "execution_count": 201,
          "metadata": {},
          "output_type": "execute_result"
        }
      ],
      "source": [
        "category.groupby('categories').count()"
      ]
    },
    {
      "cell_type": "code",
      "execution_count": null,
      "metadata": {
        "id": "kUNsCbFbqCjG"
      },
      "outputs": [],
      "source": [
        "meta_use = metadata[['asin', 'title', 'also_buy', 'brand', 'rank', 'also_view', 'details', 'price', 'description']]"
      ]
    },
    {
      "cell_type": "code",
      "execution_count": null,
      "metadata": {
        "id": "PaiZSlelqCjG",
        "outputId": "813eac0a-6f47-4190-ea5d-d702b56017ca"
      },
      "outputs": [
        {
          "data": {
            "text/plain": "asin\nB00026KYLM    2\nB00021DI10    2\nB00021CWYO    2\nB00021CQTA    2\nB00021CPNC    2\n             ..\nB01172CGQK    1\nB01172N21I    1\nB01172N2HM    1\nB01174YHM4    1\n6546546450    1\nName: title, Length: 32488, dtype: int64"
          },
          "execution_count": 203,
          "metadata": {},
          "output_type": "execute_result"
        }
      ],
      "source": [
        "meta_use.groupby('asin').count()['title'].sort_values(ascending=False)"
      ]
    },
    {
      "cell_type": "code",
      "execution_count": null,
      "metadata": {
        "id": "TiegR0eBqCjG",
        "outputId": "d0f20f63-9bd3-4430-e6c0-c2e0582aed00"
      },
      "outputs": [
        {
          "data": {
            "text/plain": "title\nBaubax Women's Bomber Travel Jacket                                                                                                                                                          9\nBourjois Healthy Mix Foundation                                                                                                                                                              7\nDerma Roller 0.25mm - Facial Skin Care Tool for Face - Micro Needle Roller - 540 Deluxe Titanium Micro Needles - Titanium Microneedle Roller - Perfect Cosmetic Microneedling Skin Roller    7\nSankuwen 15PCs Wool Makeup Brush Set Tools Toiletry Kit                                                                                                                                      7\n2                                                                                                                                                                                            5\nBMC Nail Art Water Transfer Tattoo Effects Decoration Decal-Peacock French Tips2                                                                                                             5\nDonna Premium Collection Extra Firm Mesh Wrap                                                                                                                                                4\nMen's Shoulder Bag,Kangaroo                                                                                                                                                                  4\nAfricana - 6ml (.2 oz) Perfume Oil by Al-Rehab (Crown Perfumes) by Al-Rehab                                                                                                                  4\nBuytra Cat Canvas Student Pen Pencil Case Coin Purse Pouch Cosmetic Makeup Bag                                                                                                               4\nName: asin, dtype: int64"
          },
          "execution_count": 204,
          "metadata": {},
          "output_type": "execute_result"
        }
      ],
      "source": [
        "meta_use.groupby('title').count()['asin'].sort_values(ascending=False).head(10)"
      ]
    },
    {
      "cell_type": "code",
      "execution_count": null,
      "metadata": {
        "id": "CvQWtud3qCjG",
        "outputId": "d646db10-3cda-420a-ef9f-05763148ac19"
      },
      "outputs": [
        {
          "name": "stderr",
          "output_type": "stream",
          "text": [
            "<ipython-input-205-110db4146380>:1: SettingWithCopyWarning: \n",
            "A value is trying to be set on a copy of a slice from a DataFrame.\n",
            "Try using .loc[row_indexer,col_indexer] = value instead\n",
            "\n",
            "See the caveats in the documentation: https://pandas.pydata.org/pandas-docs/stable/user_guide/indexing.html#returning-a-view-versus-a-copy\n",
            "  meta_use['ranking'] = category['ranking']\n",
            "<ipython-input-205-110db4146380>:2: SettingWithCopyWarning: \n",
            "A value is trying to be set on a copy of a slice from a DataFrame.\n",
            "Try using .loc[row_indexer,col_indexer] = value instead\n",
            "\n",
            "See the caveats in the documentation: https://pandas.pydata.org/pandas-docs/stable/user_guide/indexing.html#returning-a-view-versus-a-copy\n",
            "  meta_use['categories'] = category['categories']\n"
          ]
        }
      ],
      "source": [
        "meta_use['ranking'] = category['ranking']\n",
        "meta_use['categories'] = category['categories']"
      ]
    },
    {
      "cell_type": "code",
      "execution_count": null,
      "metadata": {
        "id": "l-YxUH6PqCjH",
        "outputId": "f2e92f1a-6567-41ba-ef7a-a18cc59ddde3"
      },
      "outputs": [
        {
          "name": "stderr",
          "output_type": "stream",
          "text": [
            "<ipython-input-206-212f390ff629>:1: SettingWithCopyWarning: \n",
            "A value is trying to be set on a copy of a slice from a DataFrame.\n",
            "Try using .loc[row_indexer,col_indexer] = value instead\n",
            "\n",
            "See the caveats in the documentation: https://pandas.pydata.org/pandas-docs/stable/user_guide/indexing.html#returning-a-view-versus-a-copy\n",
            "  meta_use['title'] = meta_use['title'].str.replace('&amp;','')\n"
          ]
        }
      ],
      "source": [
        "meta_use['title'] = meta_use['title'].str.replace('&amp;','')"
      ]
    },
    {
      "cell_type": "markdown",
      "metadata": {
        "id": "sGQdpdFFppzU"
      },
      "source": [
        "1. Item representation"
      ]
    },
    {
      "cell_type": "code",
      "execution_count": null,
      "metadata": {
        "id": "Jsh4ohgsqCjJ",
        "outputId": "8b42b5e1-6ae7-4164-822a-dc3c3d29623c"
      },
      "outputs": [
        {
          "data": {
            "text/plain": "(32300,\n 32892,\n 0        Loud 'N Clear&trade; Personal Sound Amplifier\n 1    No7 Lift  Luminate Triple Action Serum 50ml by...\n 2      No7 Stay Perfect Foundation Cool Vanilla by No7\n 3    Wella Koleston Perfect Hair Colour 44/44 Mediu...\n 4    Lacto Calamine Skin Balance Oil control 120 ml...\n 5    Mary Kay Satin Hands Hand Cream Travel MINI Si...\n 6    Unique Custom Cast Iron Liner Shader Tattoo Ma...\n Name: title, dtype: object)"
          },
          "execution_count": 210,
          "metadata": {},
          "output_type": "execute_result"
        }
      ],
      "source": [
        "len(meta_use['title'].unique()), len(meta_use['title']), meta_use['title'].head(7)"
      ]
    },
    {
      "cell_type": "code",
      "execution_count": null,
      "metadata": {
        "id": "V7DXXtUkqCjJ"
      },
      "outputs": [],
      "source": [
        "from sklearn.feature_extraction.text import TfidfVectorizer\n",
        "import string \n",
        "from nltk.tokenize import word_tokenize\n",
        "from nltk.corpus import stopwords\n",
        "from nltk.stem import WordNetLemmatizer\n",
        "from sklearn.metrics.pairwise import cosine_similarity\n",
        "\n",
        "lemmatizer = WordNetLemmatizer()\n",
        "\n",
        "df = meta_use.drop_duplicates(['asin', 'title', 'brand'])\n",
        "\n",
        "def preproc(sentence):\n",
        "# for sentence in range(0, len(meta_use['title'])):\n",
        "  remove_punctuation = ''.join([i for i in sentence if i not in string.punctuation]).lower()\n",
        "  tokens = word_tokenize(remove_punctuation)\n",
        "  result = [lemmatizer.lemmatize(voca) for voca in tokens if not voca in stopwords.words('english')]\n",
        "  return ' '.join(result)\n",
        "\n",
        "df['title'].apply(lambda x: preproc(x))\n",
        "# 計算商品用標題所表示的 tfidf 矩陣\n",
        "\n",
        "tf = TfidfVectorizer(analyzer='word')\n",
        "tfidf_matrix = tf.fit_transform(df['title'])\n",
        "\n",
        "# 計算商品間的相似程度\n",
        "similarity_matrix = cosine_similarity(tfidf_matrix)\n",
        "mapping = pd.Series(df.index,index = df['title'])\n",
        "\n",
        "# # 每個商品回傳 k 個最相近的商品\n",
        "def recommend_item(item_input, k=2):\n",
        "    try:\n",
        "        item_index = mapping[item_input]\n",
        "        similarity_score = list(enumerate(similarity_matrix[item_index]))\n",
        "        similarity_score = sorted(similarity_score, key=lambda x: x[1], reverse=True)\n",
        "        similarity_score = similarity_score[:k]\n",
        "        item_indices = [i[0] for i in similarity_score]\n",
        "        return (df['asin'].iloc[item_indices].tolist())\n",
        "    except:\n",
        "        return []\n",
        "\n",
        "# # 利用使用者購買過的商品產生推薦\n",
        "def recommend_items(items, k):\n",
        "    res = []\n",
        "    for d in items:\n",
        "        res.extend(recommend_item(d, k))\n",
        "    return res"
      ]
    },
    {
      "cell_type": "code",
      "execution_count": null,
      "metadata": {
        "id": "5TAW8A7-qCjK",
        "outputId": "513af111-86c9-45ae-81dc-19166c4ed430"
      },
      "outputs": [
        {
          "data": {
            "text/plain": "0        [Loud 'N Clear Personal Sound Amplifier allows...\n1        [No7 Lift & Luminate Triple Action Serum 50ml ...\n2        [No7 Stay Perfect Foundation now stays perfect...\n3                                                       []\n4        [Lacto Calamine Skin Balance Daily Nourishing ...\n                               ...                        \n32887                                                   []\n32888                                                   []\n32889                                                   []\n32890    [Brand new and high quality<br> Enables fast v...\n32891                                                   []\nName: description, Length: 32488, dtype: object"
          },
          "execution_count": 213,
          "metadata": {},
          "output_type": "execute_result"
        }
      ],
      "source": [
        "df['description']"
      ]
    },
    {
      "cell_type": "code",
      "execution_count": null,
      "metadata": {
        "id": "1MJoUhL_qCjL"
      },
      "outputs": [],
      "source": [
        "def recommender(training_data, users=[], k=10):\n",
        "    '''\n",
        "    * training_data: dataframe 輸入的訓練資料集（2018-09-01 以前資料）\n",
        "    * users: [] 需要被推薦的使用者\n",
        "    * k: int 每個使用者需要推薦的商品數\n",
        "    * recommendations: dict\n",
        "      {\n",
        "          使用者一： [推薦商品一, 推薦商品二, ...],\n",
        "          使用者二： [...], ...\n",
        "      }\n",
        "    '''\n",
        "    recommendations = {}\n",
        "    '''\n",
        "    content-based\n",
        "    '''\n",
        "    ratings_trainings = training_data\n",
        "    for ii in users:\n",
        "      recommend_cates = []\n",
        "      recommend_cates = recommend_items(metadata[metadata['asin'].isin(ratings_trainings[ratings_trainings['reviewerID'] == ii]['asin'].tolist())]['title'].tolist(), k)\n",
        "      \n",
        "      recommendations[ii] = recommend_cates\n",
        "    return recommendations\n",
        "    "
      ]
    },
    {
      "cell_type": "code",
      "execution_count": null,
      "metadata": {
        "id": "Hry8HX2rqCjL"
      },
      "outputs": [],
      "source": [
        "def recommender1(training_data, users=[], k=10):\n",
        "  '''\n",
        "  * training_data: dataframe 輸入的訓練資料集（2018-09-01 以前資料）\n",
        "  * users: [] 需要被推薦的使用者\n",
        "  * k: int 每個使用者需要推薦的商品數\n",
        "  * recommendations: dict\n",
        "    {\n",
        "        使用者一： [推薦商品一, 推薦商品二, ...],\n",
        "        使用者二： [...], ...\n",
        "    }\n",
        "  '''\n",
        "  # training_data = training_data[(training_data['DATE'] >= '2018-06-30') &  (training_data['DATE'] <= '2018-09-01')]\n",
        "  recommendations = {}\n",
        "  # n=0\n",
        "  for ii in users:\n",
        "    user = training_data[training_data['reviewerID'] == str(ii)]\n",
        "    # print(len(user))\n",
        "    recommend_cates = []\n",
        "    if len(user) > 0:\n",
        "      prod = user.groupby('asin').count()['overall'].sort_values(ascending=False).reset_index()\n",
        "      brand = meta_use[meta_use['asin'] == prod['asin'].unique()[0]].sort_values('ranking', ascending=False)\n",
        "      if len(brand) > 0 and brand['brand'].iloc[0] != '':\n",
        "        # print(brand['brand'])\n",
        "        if len(meta_use[meta_use['brand'] == brand['brand'].iloc[0]]) >= 10:\n",
        "          [recommend_cates.append(meta_use[meta_use['brand'] == brand['brand'].iloc[0]].iloc[gg]['asin']) for gg in range(0, 10)]\n",
        "        else:\n",
        "          [recommend_cates.append(meta_use[meta_use['brand'] == brand['brand'].iloc[0]].iloc[gg]['asin']) for gg in range(0, len(meta_use[meta_use['brand'] == brand['brand'].iloc[0]]))]\n",
        "\n",
        "    recommendations[ii] = recommend_cates\n",
        "    # recommendations = {ii : recommend_cates for ii in users}\n",
        "  return recommendations\n"
      ]
    },
    {
      "cell_type": "code",
      "execution_count": null,
      "metadata": {
        "id": "cZ_JjQfMqCjM"
      },
      "outputs": [],
      "source": [
        "def recommender2(training_data, users=[], k=10):\n",
        "    '''\n",
        "    * training_data: dataframe 輸入的訓練資料集（2018-09-01 以前資料）\n",
        "    * users: [] 需要被推薦的使用者\n",
        "    * k: int 每個使用者需要推薦的商品數\n",
        "    * recommendations: dict\n",
        "      {\n",
        "          使用者一： [推薦商品一, 推薦商品二, ...],\n",
        "          使用者二： [...], ...\n",
        "      }\n",
        "    '''\n",
        "    recommendations = {}\n",
        "    '''\n",
        "    content-based\n",
        "    '''\n",
        "    ratings_trainings = training_data\n",
        "    for ii in users:\n",
        "      recommend_cates = []\n",
        "      recommend_cates = recommend_items(metadata[metadata['asin'].isin(ratings_trainings[ratings_trainings['reviewerID'] == ii]['asin'].tolist())]['title'].tolist(), k)\n",
        "      \n",
        "      top_10 = training_data.groupby('asin').size().sort_values(ascending=False).index.to_list()[:10]\n",
        "      if len(recommend_cates) <= 10:\n",
        "        [recommend_cates.append(top_10[gg]) for gg in range(0, 10-len(recommend_cates))]\n",
        "      recommendations[ii] = recommend_cates\n",
        "      # recommendations = {ii : recommend_cates for ii in users}\n",
        "    # recommendations = {user: recommend_items(metadata[metadata['asin'].isin(ratings_trainings[ratings_trainings['reviewerID'] == user]['asin'].tolist())]['title'].tolist(), k) for user in users}\n",
        "    return recommendations\n",
        "    "
      ]
    },
    {
      "cell_type": "code",
      "execution_count": null,
      "metadata": {
        "id": "RPABkxt7qCjN"
      },
      "outputs": [],
      "source": [
        "def recommender3(training_data, users=[], k=10):\n",
        "    '''\n",
        "    * training_data: dataframe 輸入的訓練資料集（2018-09-01 以前資料）\n",
        "    * users: [] 需要被推薦的使用者\n",
        "    * k: int 每個使用者需要推薦的商品數\n",
        "    * recommendations: dict\n",
        "      {\n",
        "          使用者一： [推薦商品一, 推薦商品二, ...],\n",
        "          使用者二： [...], ...\n",
        "      }\n",
        "    '''\n",
        "    training_data = training_data[(training_data['DATE'] >= '2018-05-31') &  (training_data['DATE'] <= '2018-09-01')]\n",
        "    recommendations = {}\n",
        "    '''\n",
        "    content-based\n",
        "    '''\n",
        "    ratings_trainings = training_data\n",
        "    for ii in users:\n",
        "      recommend_cates = []\n",
        "      recommend_cates = recommend_items(metadata[metadata['asin'].isin(ratings_trainings[ratings_trainings['reviewerID'] == ii]['asin'].tolist())]['title'].tolist(), k)\n",
        "      \n",
        "      top_10 = training_data.groupby('asin').size().sort_values(ascending=False).index.to_list()[:10]\n",
        "      if len(recommend_cates) <= 10:\n",
        "        [recommend_cates.append(top_10[gg]) for gg in range(0, 10-len(recommend_cates))]\n",
        "      recommendations[ii] = recommend_cates\n",
        " \n",
        "    return recommendations\n",
        "    "
      ]
    },
    {
      "cell_type": "code",
      "execution_count": null,
      "metadata": {
        "id": "c3dGpNitqCjN"
      },
      "outputs": [],
      "source": [
        "import random\n",
        "def recommender4(training_data, users=[], k=10):\n",
        "    '''\n",
        "    * training_data: dataframe 輸入的訓練資料集（2018-09-01 以前資料）\n",
        "    * users: [] 需要被推薦的使用者\n",
        "    * k: int 每個使用者需要推薦的商品數\n",
        "    * recommendations: dict\n",
        "      {\n",
        "          使用者一： [推薦商品一, 推薦商品二, ...],\n",
        "          使用者二： [...], ...\n",
        "      }\n",
        "    '''\n",
        "    training_data = training_data[(training_data['DATE'] >= '2018-05-31') &  (training_data['DATE'] <= '2018-09-01')]\n",
        "    recommendations = {}\n",
        "    '''\n",
        "    content-based\n",
        "    '''\n",
        "    ratings_trainings = training_data\n",
        "    for ii in users:\n",
        "      recommend_cates = []\n",
        "      recommend_cates = recommend_items(metadata[metadata['asin'].isin(ratings_trainings[ratings_trainings['reviewerID'] == ii]['asin'].tolist())]['title'].tolist(), k)\n",
        "      \n",
        "      top_15 = training_data.groupby('asin').size().sort_values(ascending=False).index.to_list()[:15]\n",
        "      if len(recommend_cates) <= 10:\n",
        "        random.shuffle(top_15)\n",
        "        [recommend_cates.append(top_15[gg]) for gg in range(0, 10-len(recommend_cates))]\n",
        "      recommendations[ii] = recommend_cates\n",
        " \n",
        "    return recommendations\n",
        "    "
      ]
    },
    {
      "cell_type": "code",
      "execution_count": null,
      "metadata": {
        "id": "vvC0ofe4vsxo"
      },
      "outputs": [],
      "source": [
        "def evaluate(ratings_testings_by_user={}, ratings_by_user={}, method=None):\n",
        "    '''\n",
        "    * ratings_testings_by_user: dict 真實被購買的商品資料（2018-09-01 以後資料）\n",
        "    * ratings_by_user: dict 利用訓練資料學習的推薦商品\n",
        "    * method: str\n",
        "    * score: float\n",
        "    '''\n",
        "    total = 0\n",
        "    for d in ratings_testings_by_user:\n",
        "        if d in ratings_by_user:\n",
        "            total += len(set(ratings_by_user[d]) & set(ratings_testings_by_user[d]))\n",
        "    score = total / len(ratings_testings)\n",
        "    return score\n"
      ]
    },
    {
      "cell_type": "code",
      "execution_count": null,
      "metadata": {
        "id": "U7HlLxIrvuXE",
        "outputId": "ff51da23-0a48-48a3-ea3b-d24d6160591a"
      },
      "outputs": [
        {
          "data": {
            "text/html": "<div>\n<style scoped>\n    .dataframe tbody tr th:only-of-type {\n        vertical-align: middle;\n    }\n\n    .dataframe tbody tr th {\n        vertical-align: top;\n    }\n\n    .dataframe thead th {\n        text-align: right;\n    }\n</style>\n<table border=\"1\" class=\"dataframe\">\n  <thead>\n    <tr style=\"text-align: right;\">\n      <th></th>\n      <th>recommender_list</th>\n      <th>score</th>\n    </tr>\n  </thead>\n  <tbody>\n    <tr>\n      <th>0</th>\n      <td>0</td>\n      <td>0.000000</td>\n    </tr>\n    <tr>\n      <th>1</th>\n      <td>1</td>\n      <td>0.000000</td>\n    </tr>\n    <tr>\n      <th>2</th>\n      <td>2</td>\n      <td>0.083051</td>\n    </tr>\n    <tr>\n      <th>3</th>\n      <td>3</td>\n      <td>0.133898</td>\n    </tr>\n    <tr>\n      <th>4</th>\n      <td>4</td>\n      <td>0.098305</td>\n    </tr>\n  </tbody>\n</table>\n</div>",
            "text/plain": "  recommender_list     score\n0                0  0.000000\n1                1  0.000000\n2                2  0.083051\n3                3  0.133898\n4                4  0.098305"
          },
          "execution_count": 232,
          "metadata": {},
          "output_type": "execute_result"
        }
      ],
      "source": [
        "# # 包含全部的testing顧客\n",
        "evaluate_result = {}\n",
        "n = 0\n",
        "R = [recommender, recommender1, recommender2, recommender3, recommender4] #, recommender5\n",
        "for recommender in R: \n",
        "  ratings_by_user = {}\n",
        "  ratings_by_user = recommender(ratings_trainings, users)\n",
        "  evaluate_result[str(n)] = evaluate(ratings_testings_by_user, ratings_by_user)\n",
        "  n += 1\n",
        "result = pd.DataFrame(list(evaluate_result.items()), columns=['recommender_list', 'score'])\n",
        "\n",
        "result\n"
      ]
    },
    {
      "cell_type": "code",
      "execution_count": null,
      "metadata": {
        "id": "p_ZnmfH0qCjO",
        "outputId": "2907c2cd-176b-49c7-b834-ed622f03792f"
      },
      "outputs": [
        {
          "data": {
            "text/html": "<div>\n<style scoped>\n    .dataframe tbody tr th:only-of-type {\n        vertical-align: middle;\n    }\n\n    .dataframe tbody tr th {\n        vertical-align: top;\n    }\n\n    .dataframe thead th {\n        text-align: right;\n    }\n</style>\n<table border=\"1\" class=\"dataframe\">\n  <thead>\n    <tr style=\"text-align: right;\">\n      <th></th>\n      <th>recommender_list</th>\n      <th>score</th>\n    </tr>\n  </thead>\n  <tbody>\n    <tr>\n      <th>0</th>\n      <td>0</td>\n      <td>0.110169</td>\n    </tr>\n    <tr>\n      <th>1</th>\n      <td>1</td>\n      <td>0.000000</td>\n    </tr>\n    <tr>\n      <th>2</th>\n      <td>2</td>\n      <td>0.083051</td>\n    </tr>\n    <tr>\n      <th>3</th>\n      <td>3</td>\n      <td>0.133898</td>\n    </tr>\n    <tr>\n      <th>4</th>\n      <td>4</td>\n      <td>0.088136</td>\n    </tr>\n  </tbody>\n</table>\n</div>",
            "text/plain": "  recommender_list     score\n0                0  0.110169\n1                1  0.000000\n2                2  0.083051\n3                3  0.133898\n4                4  0.088136"
          },
          "execution_count": 233,
          "metadata": {},
          "output_type": "execute_result"
        }
      ],
      "source": [
        "# # 只計算同時出現在training和testing的顧客\n",
        "evaluate_result = {}\n",
        "n = 0\n",
        "R = [recommender, recommender1, recommender2, recommender3, recommender4] #, recommender5\n",
        "for recommender in R: \n",
        "  ratings_by_user = {}\n",
        "  # print(ratings_by_user)\n",
        "  ratings_by_user = recommender(ratings_trainings, dic_user)\n",
        "  evaluate_result[str(n)] = evaluate(ratings_testings_by_user, ratings_by_user)\n",
        "  n += 1\n",
        "result = pd.DataFrame(list(evaluate_result.items()), columns=['recommender_list', 'score'])\n",
        "result"
      ]
    }
  ],
  "metadata": {
    "colab": {
      "collapsed_sections": [],
      "name": "Week2_A4.ipynb",
      "provenance": [],
      "include_colab_link": true
    },
    "kernelspec": {
      "display_name": "Python 3.8.5 64-bit (conda)",
      "name": "python385jvsc74a57bd08fafb0d264de723bc37a22717abeea9c248234b767cf2fe48dc7a148aeb708f7"
    },
    "language_info": {
      "codemirror_mode": {
        "name": "ipython",
        "version": 3
      },
      "file_extension": ".py",
      "mimetype": "text/x-python",
      "name": "python",
      "nbconvert_exporter": "python",
      "pygments_lexer": "ipython3",
      "version": "3.8.5"
    }
  },
  "nbformat": 4,
  "nbformat_minor": 0
}